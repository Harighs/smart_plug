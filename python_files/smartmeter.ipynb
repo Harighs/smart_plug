{
 "cells": [
  {
   "cell_type": "code",
   "execution_count": 234,
   "metadata": {},
   "outputs": [
    {
     "data": {
      "text/plain": [
       "<Response [200]>"
      ]
     },
     "execution_count": 234,
     "metadata": {},
     "output_type": "execute_result"
    }
   ],
   "source": [
    "\n",
    "import requests\n",
    "import json\n",
    "import pandas as pd\n",
    "# from urllib.parse import quote\n",
    "import datetime\n",
    "\n",
    "\n",
    "\n",
    "auth_url = 'https://smartmeter.netz-noe.at/orchestration/Authentication/Login'\n",
    "auth_payload = {\"user\": \"SommererPrivatstiftung\", \"pwd\": \"SpS*1996\"}\n",
    "\n",
    "auth_response = requests.post(auth_url, json=auth_payload)\n",
    "auth_cookie = auth_response.cookies['__Host-go4DavidSecurityToken']\n",
    "auth_xsrf_token = auth_response.cookies['XSRF-Token']\n",
    "### TODO: update date from mobile \n",
    "start_date = '2023-7-10'\n",
    "end_date = '2023-9-22'\n",
    "\n",
    "data_url = \"https://smartmeter.netz-noe.at/orchestration/ConsumptionRecord/Day?meterId=AT0020000000000000000000020826368&day=2023-9-18&__Host-go4DavidSecurityToken={}\".format(auth_cookie)\n",
    "\n",
    "# data_url = f\"https://smartmeter.netz-noe.at/orchestration/ConsumptionRecord/BalanceWeek?pointOfConsumption=40565578&startDate=2023-8-22&endDate=2023-8-24\"\n",
    "# data_url = \"https://smartmeter.netz-noe.at/orchestration/ConsumptionRecord/Week?meterId=AT0020000000000000000000020826367&startDate={}&endDate={}\".format(start_date, end_date)\n",
    "headers = {\n",
    "    'Cookie': '__Host-go4DavidSecurityToken={}; XSRF-Token={}'.format(auth_cookie, auth_xsrf_token),\n",
    "}\n",
    "\n",
    "data_response = requests.get(data_url, headers=headers)\n",
    "data_response\n"
   ]
  },
  {
   "cell_type": "code",
   "execution_count": 235,
   "metadata": {},
   "outputs": [
    {
     "data": {
      "text/html": [
       "<div>\n",
       "<style scoped>\n",
       "    .dataframe tbody tr th:only-of-type {\n",
       "        vertical-align: middle;\n",
       "    }\n",
       "\n",
       "    .dataframe tbody tr th {\n",
       "        vertical-align: top;\n",
       "    }\n",
       "\n",
       "    .dataframe thead th {\n",
       "        text-align: right;\n",
       "    }\n",
       "</style>\n",
       "<table border=\"1\" class=\"dataframe\">\n",
       "  <thead>\n",
       "    <tr style=\"text-align: right;\">\n",
       "      <th></th>\n",
       "      <th>meteredValues</th>\n",
       "      <th>peakDemandTimes</th>\n",
       "    </tr>\n",
       "  </thead>\n",
       "  <tbody>\n",
       "    <tr>\n",
       "      <th>0</th>\n",
       "      <td>0.416</td>\n",
       "      <td>2023-09-18 00:15:00</td>\n",
       "    </tr>\n",
       "    <tr>\n",
       "      <th>1</th>\n",
       "      <td>0.019</td>\n",
       "      <td>2023-09-18 00:30:00</td>\n",
       "    </tr>\n",
       "    <tr>\n",
       "      <th>2</th>\n",
       "      <td>0.000</td>\n",
       "      <td>2023-09-18 00:45:00</td>\n",
       "    </tr>\n",
       "    <tr>\n",
       "      <th>3</th>\n",
       "      <td>0.000</td>\n",
       "      <td>2023-09-18 01:00:00</td>\n",
       "    </tr>\n",
       "    <tr>\n",
       "      <th>4</th>\n",
       "      <td>0.000</td>\n",
       "      <td>2023-09-18 01:15:00</td>\n",
       "    </tr>\n",
       "  </tbody>\n",
       "</table>\n",
       "</div>"
      ],
      "text/plain": [
       "   meteredValues     peakDemandTimes\n",
       "0          0.416 2023-09-18 00:15:00\n",
       "1          0.019 2023-09-18 00:30:00\n",
       "2          0.000 2023-09-18 00:45:00\n",
       "3          0.000 2023-09-18 01:00:00\n",
       "4          0.000 2023-09-18 01:15:00"
      ]
     },
     "execution_count": 235,
     "metadata": {},
     "output_type": "execute_result"
    }
   ],
   "source": [
    "\n",
    "data = pd.DataFrame(json.loads(data_response.content))[['meteredValues', 'peakDemandTimes']]\n",
    "data\n",
    "\n",
    "# Convert all Unicode values in the DataFrame to regular strings\n",
    "for col in data_.columns:\n",
    "    data_[col] = data_[col].apply(lambda x: x.encode('utf-8') if isinstance(x, unicode) else x)\n",
    "    if col == u'peakDemandTimes':\n",
    "        data[u'peakDemandTimes'] = pd.to_datetime(data[u'peakDemandTimes'])\n",
    "\n",
    "data.head()"
   ]
  },
  {
   "cell_type": "code",
   "execution_count": 236,
   "metadata": {},
   "outputs": [],
   "source": [
    "data.to_csv('smart_meter_data.csv', index=False)"
   ]
  },
  {
   "cell_type": "code",
   "execution_count": 109,
   "metadata": {},
   "outputs": [
    {
     "data": {
      "text/plain": [
       "2.4"
      ]
     },
     "execution_count": 109,
     "metadata": {},
     "output_type": "execute_result"
    }
   ],
   "source": [
    "# Define the datetime range\n",
    "start_date = pd.to_datetime('2023-09-20 00:15:00')\n",
    "end_date = pd.to_datetime('2023-09-20 01:15:00')\n",
    "\n",
    "data[(data[u'peakDemandTimes'] <= end_date)][u'meteredValues'].mean()"
   ]
  },
  {
   "cell_type": "code",
   "execution_count": 122,
   "metadata": {},
   "outputs": [
    {
     "data": {
      "text/plain": [
       "datetime.date(2023, 9, 22)"
      ]
     },
     "execution_count": 122,
     "metadata": {},
     "output_type": "execute_result"
    }
   ],
   "source": [
    "datetime.date.today()"
   ]
  },
  {
   "cell_type": "code",
   "execution_count": 238,
   "metadata": {},
   "outputs": [
    {
     "data": {
      "text/html": [
       "<div>\n",
       "<style scoped>\n",
       "    .dataframe tbody tr th:only-of-type {\n",
       "        vertical-align: middle;\n",
       "    }\n",
       "\n",
       "    .dataframe tbody tr th {\n",
       "        vertical-align: top;\n",
       "    }\n",
       "\n",
       "    .dataframe thead th {\n",
       "        text-align: right;\n",
       "    }\n",
       "</style>\n",
       "<table border=\"1\" class=\"dataframe\">\n",
       "  <thead>\n",
       "    <tr style=\"text-align: right;\">\n",
       "      <th></th>\n",
       "      <th>meteredValues</th>\n",
       "      <th>peakDemandTimes</th>\n",
       "    </tr>\n",
       "  </thead>\n",
       "  <tbody>\n",
       "    <tr>\n",
       "      <th>0</th>\n",
       "      <td>0.416</td>\n",
       "      <td>2023-09-18 00:15:00</td>\n",
       "    </tr>\n",
       "    <tr>\n",
       "      <th>1</th>\n",
       "      <td>0.019</td>\n",
       "      <td>2023-09-18 00:30:00</td>\n",
       "    </tr>\n",
       "    <tr>\n",
       "      <th>2</th>\n",
       "      <td>0.000</td>\n",
       "      <td>2023-09-18 00:45:00</td>\n",
       "    </tr>\n",
       "    <tr>\n",
       "      <th>3</th>\n",
       "      <td>0.000</td>\n",
       "      <td>2023-09-18 01:00:00</td>\n",
       "    </tr>\n",
       "    <tr>\n",
       "      <th>4</th>\n",
       "      <td>0.000</td>\n",
       "      <td>2023-09-18 01:15:00</td>\n",
       "    </tr>\n",
       "  </tbody>\n",
       "</table>\n",
       "</div>"
      ],
      "text/plain": [
       "   meteredValues     peakDemandTimes\n",
       "0          0.416 2023-09-18 00:15:00\n",
       "1          0.019 2023-09-18 00:30:00\n",
       "2          0.000 2023-09-18 00:45:00\n",
       "3          0.000 2023-09-18 01:00:00\n",
       "4          0.000 2023-09-18 01:15:00"
      ]
     },
     "execution_count": 238,
     "metadata": {},
     "output_type": "execute_result"
    }
   ],
   "source": [
    "smart_meter_data = pd.read_csv('smart_meter_data.csv')\n",
    "smart_meter_data[u'peakDemandTimes'] = pd.to_datetime(smart_meter_data[u'peakDemandTimes'])\n",
    "smart_meter_data[u'peakDemandTimes'].min().date()\n",
    "smart_meter_data.head()"
   ]
  },
  {
   "cell_type": "code",
   "execution_count": 242,
   "metadata": {},
   "outputs": [
    {
     "data": {
      "text/plain": [
       "0.05567708333333334"
      ]
     },
     "execution_count": 242,
     "metadata": {},
     "output_type": "execute_result"
    }
   ],
   "source": [
    "start_date = '2023-09-18 00:15:00'\n",
    "end_date = '2023-10-30 00:00:00'\n",
    "\n",
    "\n",
    "# Define the start_date and end_date\n",
    "start_date = pd.to_datetime(start_date)\n",
    "end_date = pd.to_datetime(end_date)\n",
    "\n",
    "# Filter the DataFrame for rows within the desired datetime range\n",
    "filtered_df = smart_meter_data[(smart_meter_data['peakDemandTimes'] >= start_date) & (smart_meter_data['peakDemandTimes'] <= end_date)]\n",
    "\n",
    "# Calculate the mean of 'meteredValues' for the filtered rows\n",
    "filtered_df['meteredValues'].mean()"
   ]
  },
  {
   "cell_type": "code",
   "execution_count": 225,
   "metadata": {},
   "outputs": [],
   "source": [
    "pd.concat([smart_meter_data, data], ignore_index=True).to_csv('smart_meter_data.csv')\n"
   ]
  },
  {
   "cell_type": "code",
   "execution_count": 222,
   "metadata": {},
   "outputs": [
    {
     "data": {
      "text/plain": [
       "datetime.date(2023, 9, 22)"
      ]
     },
     "execution_count": 222,
     "metadata": {},
     "output_type": "execute_result"
    }
   ],
   "source": [
    "datetime.date.today()"
   ]
  },
  {
   "cell_type": "code",
   "execution_count": null,
   "metadata": {},
   "outputs": [],
   "source": [
    "def smart_meter_data():\n",
    "    auth_url = 'https://smartmeter.netz-noe.at/orchestration/Authentication/Login'\n",
    "    auth_payload = {\"user\": \"SommererPrivatstiftung\", \"pwd\": \"SpS*1996\"}\n",
    "    auth_response = requests.post(auth_url, json=auth_payload)\n",
    "    auth_cookie = auth_response.cookies['__Host-go4DavidSecurityToken']\n",
    "    auth_xsrf_token = auth_response.cookies['XSRF-Token']\n",
    "    current_date = str(datetime.date.today())\n",
    "    data_url = \"https://smartmeter.netz-noe.at/orchestration/ConsumptionRecord/Day?meterId=AT0020000000000000000000020826368&day={}&__Host-go4DavidSecurityToken={}\".format(current_date,auth_cookie)\n",
    "    headers = {\n",
    "        'Cookie': '__Host-go4DavidSecurityToken={}; XSRF-Token={}'.format(auth_cookie, auth_xsrf_token),\n",
    "            }\n",
    "\n",
    "    data_response = requests.get(data_url, headers=headers)\n",
    "    \n",
    "    if data_response.status_code == 200:\n",
    "        print(\"The status code is 200 (OK).\")\n",
    "    else:\n",
    "        raise ValueError(f\"HTTP request is failing see this code with status code {data_response.status_code}.\")\n",
    "    \n",
    "\n",
    "    new_data = pd.DataFrame(json.loads(data_response.content))[['meteredValues', 'peakDemandTimes']]\n",
    "\n",
    "    # Convert all Unicode values in the DataFrame to regular strings\n",
    "    for col in new_data.columns:\n",
    "        new_data[col] = new_data[col].apply(lambda x: x.encode('utf-8') if isinstance(x, unicode) else x)\n",
    "        if col == u'peakDemandTimes':\n",
    "            new_data[u'peakDemandTimes'] = pd.to_datetime(new_data[u'peakDemandTimes'])\n",
    "\n",
    "    smart_meter_data = pd.read_csv('smart_meter_data.csv')\n",
    "    smart_meter_data[u'peakDemandTimes'] = pd.to_datetime(smart_meter_data[u'peakDemandTimes'])\n",
    "    if smart_meter_data[u'peakDemandTimes'].max().date() < datetime.date.today():\n",
    "        concatinated_data = pd.concat([smart_meter_data, new_data], ignore_index=True)\n",
    "\n",
    "    #saving new data:\n",
    "    concatinated_data.to_csv('smart_meter_data.csv')\n",
    "    print(\"saving new data smartmeter data file to csv file\")"
   ]
  },
  {
   "cell_type": "code",
   "execution_count": null,
   "metadata": {},
   "outputs": [],
   "source": [
    "import pandas as pd\n",
    "start_date = '2023-09-18 00:15:00'\n",
    "end_date = '2023-09-30 00:00:00'\n",
    "path_to_file = 'C:\\Users\\prasa\\smart_plug\\external_services\\smart_meter_data.csv'\n",
    "# Define the start_date and end_date\n",
    "start_date = pd.to_datetime(start_date)\n",
    "end_date = pd.to_datetime(end_date)\n",
    "smart_meter_data = pd.read_csv(path_to_file)  # Read in the DataFrame\n",
    "\n"
   ]
  },
  {
   "cell_type": "code",
   "execution_count": null,
   "metadata": {},
   "outputs": [],
   "source": [
    "# Filter the DataFrame for rows within the desired datetime range\n",
    "filtered_df = smart_meter_data[(smart_meter_data[u'peakDemandTimes'] >= start_date) & (smart_meter_data[u'peakDemandTimes'] <= end_date)]\n",
    "# Calculate the mean of 'meteredValues' for the filtered rows\n",
    "return filtered_df['meteredValues'].mean()"
   ]
  }
 ],
 "metadata": {
  "kernelspec": {
   "display_name": "yolo",
   "language": "python",
   "name": "python3"
  },
  "language_info": {
   "codemirror_mode": {
    "name": "ipython",
    "version": 2
   },
   "file_extension": ".py",
   "mimetype": "text/x-python",
   "name": "python",
   "nbconvert_exporter": "python",
   "pygments_lexer": "ipython2",
   "version": "2.7.15"
  },
  "orig_nbformat": 4
 },
 "nbformat": 4,
 "nbformat_minor": 2
}
