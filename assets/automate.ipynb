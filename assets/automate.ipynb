{
 "cells": [
  {
   "cell_type": "code",
   "execution_count": 3,
   "metadata": {},
   "outputs": [],
   "source": [
    "import pandas as pd\n",
    "import json\n",
    "import numpy as np\n",
    "import time\n",
    "import matplotlib.pyplot as plt\n",
    "import datetime"
   ]
  },
  {
   "cell_type": "code",
   "execution_count": 8,
   "metadata": {},
   "outputs": [
    {
     "name": "stdout",
     "output_type": "stream",
     "text": [
      "  % Total    % Received % Xferd  Average Speed   Time    Time     Time  Current\n",
      "                                 Dload  Upload   Total   Spent    Left  Speed\n",
      "100  1785  100  1785    0     0  14218      0 --:--:-- --:--:-- --:--:-- 14280\n",
      "Price is too high\n"
     ]
    },
    {
     "ename": "KeyboardInterrupt",
     "evalue": "",
     "output_type": "error",
     "traceback": [
      "\u001b[0;31m---------------------------------------------------------------------------\u001b[0m",
      "\u001b[0;31mKeyboardInterrupt\u001b[0m                         Traceback (most recent call last)",
      "Cell \u001b[0;32mIn[8], line 31\u001b[0m\n\u001b[1;32m     28\u001b[0m         \u001b[39mprint\u001b[39m(\u001b[39m'\u001b[39m\u001b[39mPrice is too high\u001b[39m\u001b[39m'\u001b[39m)\n\u001b[1;32m     30\u001b[0m \u001b[39m# Wait for some time before checking again\u001b[39;00m\n\u001b[0;32m---> 31\u001b[0m time\u001b[39m.\u001b[39;49msleep(\u001b[39m60\u001b[39;49m)  \u001b[39m# Sleep for 60 seconds (adjust as needed)\u001b[39;00m\n",
      "\u001b[0;31mKeyboardInterrupt\u001b[0m: "
     ]
    }
   ],
   "source": [
    "!curl \"https://api.awattar.at/v1/marketdata\" -o \"marketdata.json\"\n",
    "\n",
    "marketdata_df = pd.read_json('marketdata.json')\n",
    "marketdata_df = pd.json_normalize(marketdata_df['data'])\n",
    "\n",
    "# Convert 'start_timestamp' and 'end_timestamp' columns to datetime\n",
    "marketdata_df['start_timestamp'] = pd.to_datetime(marketdata_df['start_timestamp'], unit='ms')\n",
    "marketdata_df['end_timestamp'] = pd.to_datetime(marketdata_df['end_timestamp'], unit='ms')\n",
    "\n",
    "\n",
    "creterion_timestamp  = marketdata_df[marketdata_df['marketprice'] >= 90]\n",
    "\n",
    "while True:\n",
    "    # Get the current time\n",
    "    current_time = datetime.datetime.now().time()\n",
    "\n",
    "    # Iterate over the rows of the DataFrame\n",
    "    for _, row in creterion_timestamp.iterrows():\n",
    "        start_time = row['start_timestamp'].time()\n",
    "        end_time = row['end_timestamp'].time()\n",
    "\n",
    "        # Check if the current time is within the start and end time for the current row\n",
    "        \n",
    "        if start_time <= current_time <= end_time:\n",
    "            print('Current time is between start and end time for row', _)\n",
    "            # bulb on\n",
    "        else:\n",
    "            print('Price is too high')\n",
    "\n",
    "    # Wait for some time before checking again\n",
    "    time.sleep(60)  # Sleep for 60 seconds (adjust as needed)\n",
    "    \n",
    "    "
   ]
  }
 ],
 "metadata": {
  "kernelspec": {
   "display_name": "yolo",
   "language": "python",
   "name": "python3"
  },
  "language_info": {
   "codemirror_mode": {
    "name": "ipython",
    "version": 3
   },
   "file_extension": ".py",
   "mimetype": "text/x-python",
   "name": "python",
   "nbconvert_exporter": "python",
   "pygments_lexer": "ipython3",
   "version": "3.8.16"
  },
  "orig_nbformat": 4
 },
 "nbformat": 4,
 "nbformat_minor": 2
}
