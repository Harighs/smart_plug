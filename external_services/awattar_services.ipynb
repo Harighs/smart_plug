{
 "cells": [
  {
   "cell_type": "code",
   "execution_count": 1,
   "metadata": {},
   "outputs": [],
   "source": [
    "from awattar_services import AwattarServices\n",
    "\n",
    "# Create an instance of the class\n",
    "awattar_services = AwattarServices()"
   ]
  },
  {
   "cell_type": "code",
   "execution_count": 8,
   "metadata": {},
   "outputs": [],
   "source": [
    "import datetime"
   ]
  },
  {
   "cell_type": "code",
   "execution_count": 7,
   "metadata": {},
   "outputs": [
    {
     "ename": "TypeError",
     "evalue": "'module' object is not callable",
     "output_type": "error",
     "traceback": [
      "\u001b[0;31m---------------------------------------------------------------------------\u001b[0m",
      "\u001b[0;31mTypeError\u001b[0m                                 Traceback (most recent call last)",
      "\u001b[1;32m/home/pi/smart_plug/external_services/awattar_services.ipynb Cell 2\u001b[0m line \u001b[0;36m6\n\u001b[1;32m      <a href='vscode-notebook-cell://ssh-remote%2B192.168.1.238/home/pi/smart_plug/external_services/awattar_services.ipynb#W1sdnNjb2RlLXJlbW90ZQ%3D%3D?line=3'>4</a>\u001b[0m \u001b[39m# Get today and yesterday's date\u001b[39;00m\n\u001b[1;32m      <a href='vscode-notebook-cell://ssh-remote%2B192.168.1.238/home/pi/smart_plug/external_services/awattar_services.ipynb#W1sdnNjb2RlLXJlbW90ZQ%3D%3D?line=4'>5</a>\u001b[0m today \u001b[39m=\u001b[39m datetime\u001b[39m.\u001b[39mdatetime\u001b[39m.\u001b[39mnow()\u001b[39m.\u001b[39mreplace(hour\u001b[39m=\u001b[39m\u001b[39m0\u001b[39m, minute\u001b[39m=\u001b[39m\u001b[39m0\u001b[39m, second\u001b[39m=\u001b[39m\u001b[39m0\u001b[39m, microsecond\u001b[39m=\u001b[39m\u001b[39m0\u001b[39m)\n\u001b[0;32m----> <a href='vscode-notebook-cell://ssh-remote%2B192.168.1.238/home/pi/smart_plug/external_services/awattar_services.ipynb#W1sdnNjb2RlLXJlbW90ZQ%3D%3D?line=5'>6</a>\u001b[0m yesterday \u001b[39m=\u001b[39m today \u001b[39m-\u001b[39m timedelta(days\u001b[39m=\u001b[39;49m\u001b[39m1\u001b[39;49m)\n\u001b[1;32m      <a href='vscode-notebook-cell://ssh-remote%2B192.168.1.238/home/pi/smart_plug/external_services/awattar_services.ipynb#W1sdnNjb2RlLXJlbW90ZQ%3D%3D?line=7'>8</a>\u001b[0m \u001b[39m# Convert to a UNIX timestamp (in seconds)\u001b[39;00m\n\u001b[1;32m      <a href='vscode-notebook-cell://ssh-remote%2B192.168.1.238/home/pi/smart_plug/external_services/awattar_services.ipynb#W1sdnNjb2RlLXJlbW90ZQ%3D%3D?line=8'>9</a>\u001b[0m timestamp_start_yesterday \u001b[39m=\u001b[39m \u001b[39mint\u001b[39m(yesterday\u001b[39m.\u001b[39mtimestamp())\n",
      "\u001b[0;31mTypeError\u001b[0m: 'module' object is not callable"
     ]
    }
   ],
   "source": [
    "import json\n",
    "import datetime\n",
    "import timedelta\n",
    "# Get today and yesterday's date\n",
    "today = datetime.datetime.now().replace(hour=0, minute=0, second=0, microsecond=0)\n",
    "yesterday = today - timedelta(days=1)\n",
    "\n",
    "# Convert to a UNIX timestamp (in seconds)\n",
    "timestamp_start_yesterday = int(yesterday.timestamp())\n",
    "timestamp_start_today = int(today.timestamp())\n",
    "\n",
    "# If you need the timestamps in milliseconds, multiply by 1000\n",
    "timestamp_start_yesterday_ms = timestamp_start_yesterday * 1000\n",
    "timestamp_start_today_ms = timestamp_start_today * 1000\n",
    "\n",
    "print(f\"Timestamp for 00:00:00 yesterday: {timestamp_start_yesterday} seconds / {timestamp_start_yesterday_ms} milliseconds\")\n",
    "print(f\"Timestamp for 24:00:00 yesterday (00:00:00 today): {timestamp_start_today} seconds / {timestamp_start_today_ms} milliseconds\")\n"
   ]
  },
  {
   "cell_type": "code",
   "execution_count": 15,
   "metadata": {},
   "outputs": [
    {
     "ename": "TypeError",
     "evalue": "AWATTAR_ONE_DAY_PERIOD() missing 1 required positional argument: 'file_path'",
     "output_type": "error",
     "traceback": [
      "\u001b[0;31m---------------------------------------------------------------------------\u001b[0m",
      "\u001b[0;31mTypeError\u001b[0m                                 Traceback (most recent call last)",
      "\u001b[1;32m/home/pi/smart_plug/python_files/awattar_services.ipynb Cell 3\u001b[0m line \u001b[0;36m1\n\u001b[0;32m----> <a href='vscode-notebook-cell://ssh-remote%2B192.168.1.238/home/pi/smart_plug/python_files/awattar_services.ipynb#W1sdnNjb2RlLXJlbW90ZQ%3D%3D?line=0'>1</a>\u001b[0m awattar_services\u001b[39m.\u001b[39;49mAWATTAR_ONE_DAY_PERIOD(timestamp_start_yesterday_ms, timestamp_start_today_ms)\n",
      "\u001b[0;31mTypeError\u001b[0m: AWATTAR_ONE_DAY_PERIOD() missing 1 required positional argument: 'file_path'"
     ]
    }
   ],
   "source": [
    "awattar_services.AWATTAR_ONE_DAY_PERIOD(timestamp_start_yesterday_ms, timestamp_start_today_ms)"
   ]
  },
  {
   "cell_type": "code",
   "execution_count": 7,
   "metadata": {},
   "outputs": [
    {
     "data": {
      "text/plain": [
       "1695942000000"
      ]
     },
     "execution_count": 7,
     "metadata": {},
     "output_type": "execute_result"
    }
   ],
   "source": [
    "timestamp_start_yesterday_ms"
   ]
  },
  {
   "cell_type": "code",
   "execution_count": null,
   "metadata": {},
   "outputs": [],
   "source": []
  }
 ],
 "metadata": {
  "kernelspec": {
   "display_name": "Python 3",
   "language": "python",
   "name": "python3"
  },
  "language_info": {
   "codemirror_mode": {
    "name": "ipython",
    "version": 3
   },
   "file_extension": ".py",
   "mimetype": "text/x-python",
   "name": "python",
   "nbconvert_exporter": "python",
   "pygments_lexer": "ipython3",
   "version": "3.9.2"
  },
  "orig_nbformat": 4
 },
 "nbformat": 4,
 "nbformat_minor": 2
}
