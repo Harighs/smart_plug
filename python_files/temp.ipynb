{
 "cells": [
  {
   "cell_type": "code",
   "execution_count": 10,
   "metadata": {},
   "outputs": [
    {
     "name": "stdout",
     "output_type": "stream",
     "text": [
      "init called\n",
      "2.6.0\n",
      "2023-10-24\n",
      "2023-10-25\n",
      "11.580000000000002\n",
      "5\n",
      "40\n",
      "2\n",
      "[('2',)]\n",
      "2\n",
      "2023-10-26 00:00:00\n",
      "2023-10-26 23:59:59.999999\n"
     ]
    }
   ],
   "source": [
    "\n",
    "import sys \n",
    "sys.path.append('/home/pi/smart_plug/')\n",
    "import os\n",
    "import pandas as pd\n",
    "import sqlite3\n",
    "from datetime import datetime, timedelta\n",
    "from database.db_manager import DatabaseManager\n",
    " \n",
    "db = DatabaseManager()\n",
    "last48hrs_consumption = db.read_datacache_last_48hrs_consumption()[0][0]\n",
    "last24hrs_consumption = db.read_datacache_last_24hrs_consumption()[0][0]\n",
    "relay1PowerNeeded = db.read_relaysettings_table()[0][2]\n",
    "relay2PowerNeeded = db.read_relaysettings_table()[0][3]\n",
    "\n",
    "print(last24hrs_consumption)\n",
    "print(relay1PowerNeeded)\n",
    "print(relay2PowerNeeded)\n",
    "\n",
    "no_of_times_to_activate_automode = int(last24hrs_consumption) / int(relay1PowerNeeded)\n",
    "\n",
    "print(round(no_of_times_to_activate_automode))\n",
    " \n",
    "\n",
    "\n",
    "times_toturn_on = db.read_automode(1)\n",
    "print(times_toturn_on)\n",
    "print(times_toturn_on[0][0])\n",
    "\n",
    "\n",
    "\n",
    "\n",
    "current_datetime = datetime.now()\n",
    "unix_timestamp = current_datetime.timestamp()\n",
    "# Convert Unix timestamp to datetime\n",
    "dt = datetime.utcfromtimestamp(unix_timestamp)\n",
    "\n",
    "# Start of the day\n",
    "start_of_day = datetime(dt.year, dt.month, dt.day, 0, 0, 0, 0)\n",
    "\n",
    "# End of the day\n",
    "end_of_day = start_of_day + timedelta(days=1) - timedelta(microseconds=1)\n",
    "\n",
    "print(start_of_day)\n",
    "print(end_of_day)\n"
   ]
  },
  {
   "cell_type": "code",
   "execution_count": 9,
   "metadata": {},
   "outputs": [
    {
     "name": "stdout",
     "output_type": "stream",
     "text": [
      "dataset/awattar_data.csv\n"
     ]
    }
   ],
   "source": [
    "\n",
    "import sys \n",
    "sys.path.append('/home/pi/smart_plug/')\n",
    "import os\n",
    "from main_services.common_utils import common_utils \n",
    "\n",
    "test = 'dataset/'+common_utils.static_awattar_filename\n",
    "\n",
    "print(test)"
   ]
  }
 ],
 "metadata": {
  "kernelspec": {
   "display_name": "Python 3",
   "language": "python",
   "name": "python3"
  },
  "language_info": {
   "codemirror_mode": {
    "name": "ipython",
    "version": 3
   },
   "file_extension": ".py",
   "mimetype": "text/x-python",
   "name": "python",
   "nbconvert_exporter": "python",
   "pygments_lexer": "ipython3",
   "version": "3.9.2"
  },
  "orig_nbformat": 4
 },
 "nbformat": 4,
 "nbformat_minor": 2
}
