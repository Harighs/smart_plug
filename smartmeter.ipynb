{
 "cells": [
  {
   "cell_type": "code",
   "execution_count": null,
   "metadata": {},
   "outputs": [],
   "source": [
    "import requests\n",
    "import json\n",
    "import pandas as pd\n",
    "from urllib.parse import quote\n",
    "\n",
    "\n",
    "# URL\n",
    "url = 'https://smartmeter.netz-noe.at/orchestration/Authentication/Login'\n",
    "myobj = {\"user\":\"SommererPrivatstiftung\",\"pwd\":\"SpS*1996\"}\n",
    "x = requests.post(url, json = myobj)\n",
    "\n",
    "\n",
    "accountId = '000019014443'\n",
    "cookie = str(x.cookies['__Host-go4DavidSecurityToken'])  # Assuming 'x' is defined elsewhere\n",
    "get_url = f\"https://smartmeter.netz-noe.at/orchestration/User/GetMeteringPointByAccountId?accountId={accountId}&__Host-go4DavidSecurityToken={cookie}\"\n",
    "\n",
    "# response = requests.get(get_url)\n",
    "# data = response.json()\n",
    "\n",
    "\n",
    "# URL components\n",
    "base_url = 'https://smartmeter.netz-noe.at/orchestration/User/GetMeteringPointByAccountId?'\n",
    "\n",
    "# Encode the URL components\n",
    "encoded_param1 = quote(accountId)\n",
    "encoded_param2 = quote(cookie)\n",
    "\n",
    "# Construct the encoded URL\n",
    "encoded_url = f'{base_url}accountId={encoded_param1}&__Host-go4DavidSecurityToken={encoded_param2}'\n",
    "\n",
    "print(encoded_url)\n",
    "requests.get(get_url, headers={'Cookie': f'__Host-go4DavidSecurityToken={cookie}'})"
   ]
  },
  {
   "cell_type": "code",
   "execution_count": null,
   "metadata": {},
   "outputs": [],
   "source": [
    "import requests\n",
    "import json\n",
    "import pandas as pd\n",
    "from urllib.parse import quote\n",
    "\n",
    "\n",
    "# URL\n",
    "url = 'https://smartmeter.netz-noe.at/orchestration/Authentication/Login'\n",
    "myobj = {\"user\":\"SommererPrivatstiftung\",\"pwd\":\"SpS*1996\"}\n",
    "x = requests.post(url, json = myobj)\n",
    "\n",
    "accountId = '000019014443'\n",
    "cookie = str(x.cookies['__Host-go4DavidSecurityToken'])  # Assuming 'x' is defined elsewhere\n",
    "get_url = f\"https://smartmeter.netz-noe.at/orchestration/User/GetMeteringPointByAccountId?accountId={accountId}&__Host-go4DavidSecurityToken={cookie}\"\n",
    "\n",
    "\n",
    "requests.get(get_url)"
   ]
  },
  {
   "cell_type": "code",
   "execution_count": 2,
   "metadata": {},
   "outputs": [
    {
     "name": "stdout",
     "output_type": "stream",
     "text": [
      "Request failed with status code: 401\n"
     ]
    }
   ],
   "source": [
    "import requests\n",
    "import json\n",
    "import pandas as pd\n",
    "from urllib.parse import quote\n",
    "\n",
    "# URL\n",
    "url = 'https://smartmeter.netz-noe.at/orchestration/Authentication/Login'\n",
    "myobj = {\"user\": \"SommererPrivatstiftung\", \"pwd\": \"SpS*1996\"}\n",
    "x = requests.post(url, json=myobj)\n",
    "\n",
    "accountId = '000019014443'\n",
    "cookie = str(x.cookies['__Host-go4DavidSecurityToken'])  # Assuming 'x' is defined elsewhere\n",
    "get_url = f\"https://smartmeter.netz-noe.at/orchestration/User/GetMeteringPointByAccountId?accountId={accountId}\"\n",
    "\n",
    "XSRF-Token =  ''\n",
    "NSC_WT_TWYUXFCQ-TTM = ''\n",
    "__Host-go4DavidSecurityToken = ''\n",
    "# Define headers\n",
    "headers = {#\n",
    "    \"Cookie\": f\"__Host-go4DavidSecurityToken={cookie}\",\n",
    "    \"User-Agent\": \"chrome\",  # Replace with an actual user agent string\n",
    "}\n",
    "\n",
    "# Make the GET request with headers\n",
    "response = requests.get(get_url, headers=headers)\n",
    "\n",
    "# Process the response\n",
    "if response.status_code == 200:\n",
    "    data = response.json()  # Assuming the response contains JSON data\n",
    "    # Process the data as needed\n",
    "else:\n",
    "    print(\"Request failed with status code:\", response.status_code)\n"
   ]
  },
  {
   "cell_type": "code",
   "execution_count": 4,
   "metadata": {},
   "outputs": [
    {
     "data": {
      "text/plain": [
       "['XSRF-Token', 'NSC_WT_TWYUXFCQ-TTM', '__Host-go4DavidSecurityToken']"
      ]
     },
     "execution_count": 4,
     "metadata": {},
     "output_type": "execute_result"
    }
   ],
   "source": [
    "x.cookies.keys()"
   ]
  },
  {
   "cell_type": "code",
   "execution_count": null,
   "metadata": {},
   "outputs": [],
   "source": []
  }
 ],
 "metadata": {
  "kernelspec": {
   "display_name": "yolo",
   "language": "python",
   "name": "python3"
  },
  "language_info": {
   "codemirror_mode": {
    "name": "ipython",
    "version": 3
   },
   "file_extension": ".py",
   "mimetype": "text/x-python",
   "name": "python",
   "nbconvert_exporter": "python",
   "pygments_lexer": "ipython3",
   "version": "3.8.17"
  },
  "orig_nbformat": 4
 },
 "nbformat": 4,
 "nbformat_minor": 2
}
