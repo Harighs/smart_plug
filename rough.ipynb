{
 "cells": [
  {
   "cell_type": "code",
   "execution_count": 5,
   "metadata": {},
   "outputs": [],
   "source": [
    "import pandas as pd\n",
    "import datetime\n",
    "import requests\n"
   ]
  },
  {
   "cell_type": "code",
   "execution_count": 59,
   "metadata": {},
   "outputs": [],
   "source": [
    "# New data\n",
    "url = \"https://api.awattar.at/v1/marketdata\"\n",
    "new_df = requests.get(url).json()\n",
    "new_df = pd.json_normalize(new_df['data'])\n",
    "new_df['start_timestamp'] = pd.to_datetime(new_df['start_timestamp'], unit='ms')\n",
    "new_df['end_timestamp'] = pd.to_datetime(new_df['end_timestamp'], unit='ms')\n"
   ]
  },
  {
   "cell_type": "code",
   "execution_count": 60,
   "metadata": {},
   "outputs": [
    {
     "name": "stdout",
     "output_type": "stream",
     "text": [
      "File does not exist\n"
     ]
    }
   ],
   "source": [
    "if not os.path.isfile('dataset/awattar_data.csv'):\n",
    "    print('File does not exist')\n",
    "    new_df.to_csv('dataset/awattar_data.csv', index=False)"
   ]
  },
  {
   "cell_type": "code",
   "execution_count": 73,
   "metadata": {},
   "outputs": [],
   "source": [
    "old_df = pd.read_csv('dataset/awattar_data.csv')\n",
    "old_df['start_timestamp'] = pd.to_datetime(old_df['start_timestamp'])\n",
    "old_df['end_timestamp'] = pd.to_datetime(old_df['end_timestamp'])"
   ]
  },
  {
   "cell_type": "code",
   "execution_count": 78,
   "metadata": {},
   "outputs": [
    {
     "data": {
      "text/html": [
       "<div>\n",
       "<style scoped>\n",
       "    .dataframe tbody tr th:only-of-type {\n",
       "        vertical-align: middle;\n",
       "    }\n",
       "\n",
       "    .dataframe tbody tr th {\n",
       "        vertical-align: top;\n",
       "    }\n",
       "\n",
       "    .dataframe thead th {\n",
       "        text-align: right;\n",
       "    }\n",
       "</style>\n",
       "<table border=\"1\" class=\"dataframe\">\n",
       "  <thead>\n",
       "    <tr style=\"text-align: right;\">\n",
       "      <th></th>\n",
       "      <th>start_timestamp</th>\n",
       "      <th>end_timestamp</th>\n",
       "      <th>marketprice</th>\n",
       "      <th>unit</th>\n",
       "    </tr>\n",
       "  </thead>\n",
       "  <tbody>\n",
       "    <tr>\n",
       "      <th>0</th>\n",
       "      <td>2023-08-26 12:00:00</td>\n",
       "      <td>2023-08-26 13:00:00</td>\n",
       "      <td>88.04</td>\n",
       "      <td>Eur/MWh</td>\n",
       "    </tr>\n",
       "    <tr>\n",
       "      <th>1</th>\n",
       "      <td>2023-08-26 13:00:00</td>\n",
       "      <td>2023-08-26 14:00:00</td>\n",
       "      <td>90.02</td>\n",
       "      <td>Eur/MWh</td>\n",
       "    </tr>\n",
       "    <tr>\n",
       "      <th>2</th>\n",
       "      <td>2023-08-26 14:00:00</td>\n",
       "      <td>2023-08-26 15:00:00</td>\n",
       "      <td>92.69</td>\n",
       "      <td>Eur/MWh</td>\n",
       "    </tr>\n",
       "    <tr>\n",
       "      <th>3</th>\n",
       "      <td>2023-08-26 15:00:00</td>\n",
       "      <td>2023-08-26 16:00:00</td>\n",
       "      <td>114.13</td>\n",
       "      <td>Eur/MWh</td>\n",
       "    </tr>\n",
       "    <tr>\n",
       "      <th>4</th>\n",
       "      <td>2023-08-26 16:00:00</td>\n",
       "      <td>2023-08-26 17:00:00</td>\n",
       "      <td>131.90</td>\n",
       "      <td>Eur/MWh</td>\n",
       "    </tr>\n",
       "    <tr>\n",
       "      <th>5</th>\n",
       "      <td>2023-08-26 17:00:00</td>\n",
       "      <td>2023-08-26 18:00:00</td>\n",
       "      <td>131.95</td>\n",
       "      <td>Eur/MWh</td>\n",
       "    </tr>\n",
       "    <tr>\n",
       "      <th>6</th>\n",
       "      <td>2023-08-26 18:00:00</td>\n",
       "      <td>2023-08-26 19:00:00</td>\n",
       "      <td>139.66</td>\n",
       "      <td>Eur/MWh</td>\n",
       "    </tr>\n",
       "    <tr>\n",
       "      <th>7</th>\n",
       "      <td>2023-08-26 19:00:00</td>\n",
       "      <td>2023-08-26 20:00:00</td>\n",
       "      <td>134.87</td>\n",
       "      <td>Eur/MWh</td>\n",
       "    </tr>\n",
       "    <tr>\n",
       "      <th>8</th>\n",
       "      <td>2023-08-26 20:00:00</td>\n",
       "      <td>2023-08-26 21:00:00</td>\n",
       "      <td>122.98</td>\n",
       "      <td>Eur/MWh</td>\n",
       "    </tr>\n",
       "    <tr>\n",
       "      <th>9</th>\n",
       "      <td>2023-08-26 21:00:00</td>\n",
       "      <td>2023-08-26 22:00:00</td>\n",
       "      <td>110.63</td>\n",
       "      <td>Eur/MWh</td>\n",
       "    </tr>\n",
       "    <tr>\n",
       "      <th>10</th>\n",
       "      <td>2023-08-26 22:00:00</td>\n",
       "      <td>2023-08-26 23:00:00</td>\n",
       "      <td>102.39</td>\n",
       "      <td>Eur/MWh</td>\n",
       "    </tr>\n",
       "    <tr>\n",
       "      <th>11</th>\n",
       "      <td>2023-08-26 23:00:00</td>\n",
       "      <td>2023-08-27 00:00:00</td>\n",
       "      <td>97.56</td>\n",
       "      <td>Eur/MWh</td>\n",
       "    </tr>\n",
       "    <tr>\n",
       "      <th>12</th>\n",
       "      <td>2023-08-27 00:00:00</td>\n",
       "      <td>2023-08-27 01:00:00</td>\n",
       "      <td>96.04</td>\n",
       "      <td>Eur/MWh</td>\n",
       "    </tr>\n",
       "    <tr>\n",
       "      <th>13</th>\n",
       "      <td>2023-08-27 01:00:00</td>\n",
       "      <td>2023-08-27 02:00:00</td>\n",
       "      <td>94.96</td>\n",
       "      <td>Eur/MWh</td>\n",
       "    </tr>\n",
       "    <tr>\n",
       "      <th>14</th>\n",
       "      <td>2023-08-27 02:00:00</td>\n",
       "      <td>2023-08-27 03:00:00</td>\n",
       "      <td>96.62</td>\n",
       "      <td>Eur/MWh</td>\n",
       "    </tr>\n",
       "    <tr>\n",
       "      <th>15</th>\n",
       "      <td>2023-08-27 03:00:00</td>\n",
       "      <td>2023-08-27 04:00:00</td>\n",
       "      <td>95.49</td>\n",
       "      <td>Eur/MWh</td>\n",
       "    </tr>\n",
       "    <tr>\n",
       "      <th>16</th>\n",
       "      <td>2023-08-27 04:00:00</td>\n",
       "      <td>2023-08-27 05:00:00</td>\n",
       "      <td>96.64</td>\n",
       "      <td>Eur/MWh</td>\n",
       "    </tr>\n",
       "    <tr>\n",
       "      <th>17</th>\n",
       "      <td>2023-08-27 05:00:00</td>\n",
       "      <td>2023-08-27 06:00:00</td>\n",
       "      <td>94.52</td>\n",
       "      <td>Eur/MWh</td>\n",
       "    </tr>\n",
       "    <tr>\n",
       "      <th>18</th>\n",
       "      <td>2023-08-27 06:00:00</td>\n",
       "      <td>2023-08-27 07:00:00</td>\n",
       "      <td>94.10</td>\n",
       "      <td>Eur/MWh</td>\n",
       "    </tr>\n",
       "    <tr>\n",
       "      <th>19</th>\n",
       "      <td>2023-08-27 07:00:00</td>\n",
       "      <td>2023-08-27 08:00:00</td>\n",
       "      <td>94.92</td>\n",
       "      <td>Eur/MWh</td>\n",
       "    </tr>\n",
       "    <tr>\n",
       "      <th>20</th>\n",
       "      <td>2023-08-27 08:00:00</td>\n",
       "      <td>2023-08-27 09:00:00</td>\n",
       "      <td>93.16</td>\n",
       "      <td>Eur/MWh</td>\n",
       "    </tr>\n",
       "    <tr>\n",
       "      <th>21</th>\n",
       "      <td>2023-08-27 09:00:00</td>\n",
       "      <td>2023-08-27 10:00:00</td>\n",
       "      <td>93.87</td>\n",
       "      <td>Eur/MWh</td>\n",
       "    </tr>\n",
       "    <tr>\n",
       "      <th>22</th>\n",
       "      <td>2023-08-27 10:00:00</td>\n",
       "      <td>2023-08-27 11:00:00</td>\n",
       "      <td>91.69</td>\n",
       "      <td>Eur/MWh</td>\n",
       "    </tr>\n",
       "    <tr>\n",
       "      <th>23</th>\n",
       "      <td>2023-08-27 11:00:00</td>\n",
       "      <td>2023-08-27 12:00:00</td>\n",
       "      <td>84.06</td>\n",
       "      <td>Eur/MWh</td>\n",
       "    </tr>\n",
       "  </tbody>\n",
       "</table>\n",
       "</div>"
      ],
      "text/plain": [
       "       start_timestamp       end_timestamp  marketprice     unit\n",
       "0  2023-08-26 12:00:00 2023-08-26 13:00:00        88.04  Eur/MWh\n",
       "1  2023-08-26 13:00:00 2023-08-26 14:00:00        90.02  Eur/MWh\n",
       "2  2023-08-26 14:00:00 2023-08-26 15:00:00        92.69  Eur/MWh\n",
       "3  2023-08-26 15:00:00 2023-08-26 16:00:00       114.13  Eur/MWh\n",
       "4  2023-08-26 16:00:00 2023-08-26 17:00:00       131.90  Eur/MWh\n",
       "5  2023-08-26 17:00:00 2023-08-26 18:00:00       131.95  Eur/MWh\n",
       "6  2023-08-26 18:00:00 2023-08-26 19:00:00       139.66  Eur/MWh\n",
       "7  2023-08-26 19:00:00 2023-08-26 20:00:00       134.87  Eur/MWh\n",
       "8  2023-08-26 20:00:00 2023-08-26 21:00:00       122.98  Eur/MWh\n",
       "9  2023-08-26 21:00:00 2023-08-26 22:00:00       110.63  Eur/MWh\n",
       "10 2023-08-26 22:00:00 2023-08-26 23:00:00       102.39  Eur/MWh\n",
       "11 2023-08-26 23:00:00 2023-08-27 00:00:00        97.56  Eur/MWh\n",
       "12 2023-08-27 00:00:00 2023-08-27 01:00:00        96.04  Eur/MWh\n",
       "13 2023-08-27 01:00:00 2023-08-27 02:00:00        94.96  Eur/MWh\n",
       "14 2023-08-27 02:00:00 2023-08-27 03:00:00        96.62  Eur/MWh\n",
       "15 2023-08-27 03:00:00 2023-08-27 04:00:00        95.49  Eur/MWh\n",
       "16 2023-08-27 04:00:00 2023-08-27 05:00:00        96.64  Eur/MWh\n",
       "17 2023-08-27 05:00:00 2023-08-27 06:00:00        94.52  Eur/MWh\n",
       "18 2023-08-27 06:00:00 2023-08-27 07:00:00        94.10  Eur/MWh\n",
       "19 2023-08-27 07:00:00 2023-08-27 08:00:00        94.92  Eur/MWh\n",
       "20 2023-08-27 08:00:00 2023-08-27 09:00:00        93.16  Eur/MWh\n",
       "21 2023-08-27 09:00:00 2023-08-27 10:00:00        93.87  Eur/MWh\n",
       "22 2023-08-27 10:00:00 2023-08-27 11:00:00        91.69  Eur/MWh\n",
       "23 2023-08-27 11:00:00 2023-08-27 12:00:00        84.06  Eur/MWh"
      ]
     },
     "execution_count": 78,
     "metadata": {},
     "output_type": "execute_result"
    }
   ],
   "source": [
    "old_df"
   ]
  },
  {
   "cell_type": "code",
   "execution_count": 79,
   "metadata": {},
   "outputs": [
    {
     "data": {
      "text/plain": [
       "False"
      ]
     },
     "execution_count": 79,
     "metadata": {},
     "output_type": "execute_result"
    }
   ],
   "source": [
    "old_df['end_timestamp'].max() < datetime.datetime.strptime('2023-08-01', '%Y-%m-%d')"
   ]
  },
  {
   "cell_type": "code",
   "execution_count": 56,
   "metadata": {},
   "outputs": [
    {
     "data": {
      "text/plain": [
       "True"
      ]
     },
     "execution_count": 56,
     "metadata": {},
     "output_type": "execute_result"
    }
   ],
   "source": [
    "datetime.datetime.strptime('2023-07-25', '%Y-%m-%d') < datetime.datetime.strptime('2023-07-26', '%Y-%m-%d')"
   ]
  }
 ],
 "metadata": {
  "kernelspec": {
   "display_name": "yolo",
   "language": "python",
   "name": "python3"
  },
  "language_info": {
   "codemirror_mode": {
    "name": "ipython",
    "version": 3
   },
   "file_extension": ".py",
   "mimetype": "text/x-python",
   "name": "python",
   "nbconvert_exporter": "python",
   "pygments_lexer": "ipython3",
   "version": "3.8.17"
  },
  "orig_nbformat": 4
 },
 "nbformat": 4,
 "nbformat_minor": 2
}
