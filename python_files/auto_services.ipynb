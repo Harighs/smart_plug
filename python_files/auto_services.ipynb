{
 "cells": [
  {
   "cell_type": "code",
   "execution_count": 1,
   "metadata": {},
   "outputs": [],
   "source": [
    "import pandas as pd\n",
    "import sys\n",
    "sys.path.append('../')\n",
    "import os\n",
    "import schedule\n",
    "import time\n",
    "\n",
    "from flask import Flask, jsonify, request\n",
    "\n",
    "from external_services.awattar_services import AwattarServices\n",
    "from pi_controller.relay_controller import RelayControl\n",
    "from external_services.smartmeter_services import SmartMeterServices"
   ]
  },
  {
   "cell_type": "code",
   "execution_count": 2,
   "metadata": {},
   "outputs": [],
   "source": [
    "columns  = ['start_timestamp', 'end_timestamp', 'awattar_price',\n",
    "            'smart_meter_consumption',\n",
    "            'R1',\n",
    "            'R2',\n",
    "            'R3',\n",
    "            'R4',\n",
    "            'R5',\n",
    "            'status','mode']\n",
    "\n",
    "\n",
    "MASTER_DATASET = pd.DataFrame(columns=columns)\n",
    "\n",
    "# Assuming you've saved your CSVs as awattar_data.csv and smart_meter_data.csv\n",
    "awattar_data_path = '../DATASET/awattar_data.csv'\n",
    "smart_meter_data_path = '../DATASET/smart_meter_data.csv'\n"
   ]
  },
  {
   "cell_type": "code",
   "execution_count": 3,
   "metadata": {},
   "outputs": [],
   "source": [
    "def create_master_df(awattar_data_path, smart_meter_data_path):\n",
    "    Master_Data_Path = '../DATASET/master_data.csv'\n",
    "    \n",
    "    if not os.path.exists(Master_Data_Path):\n",
    "        columns  = ['start_timestamp', 'end_timestamp', 'awattar_price', 'smart_meter_consumption', 'R1', 'R2', 'R3', 'R4', 'R5', 'status','mode']\n",
    "        pd.DataFrame(columns=columns).to_csv(Master_Data_Path, index=False)\n",
    "    \n",
    "    Master_Data = pd.read_csv(Master_Data_Path)\n",
    "    \n",
    "    # Load and process awattar data\n",
    "    awattar_data = pd.read_csv(awattar_data_path)\n",
    "    \n",
    "    # Load and process smart meter data\n",
    "    smart_meter_data = pd.read_csv(smart_meter_data_path)\n",
    "    \n",
    "    smart_meter_data['peakDemandTimes'] = pd.to_datetime(smart_meter_data['peakDemandTimes'])\n",
    "    smart_meter_data['hourly_time'] = smart_meter_data['peakDemandTimes'].dt.floor('H')\n",
    "    smart_meter_data = smart_meter_data.groupby('hourly_time')['meteredValues'].sum().reset_index()\n",
    "    \n",
    "        \n",
    "    Master_Data['start_timestamp'] = awattar_data['start_timestamp']\n",
    "    Master_Data['end_timestamp'] = awattar_data['end_timestamp']\n",
    "    Master_Data['awattar_price'] = awattar_data['marketprice']\n",
    "    Master_Data['smart_meter_consumption'] = smart_meter_data['meteredValues']\n",
    "    # R1\n",
    "    Master_Data['R1'] = smart_meter_data['meteredValues']\n",
    "    # R4\n",
    "    Master_Data['R4'] = awattar_data['marketprice']\n",
    "    # R2\n",
    "    Master_Data['R2'] = Master_Data['R1'] * Master_Data['R4']  # R2 = R1 * R4\n",
    "    # R5\n",
    "    Master_Data['R5'] = Master_Data['R2'] - Master_Data['R1'] * Master_Data['R4']  # R5 = (R2 - R1) * R4\n",
    "    \n",
    "    # R3\n",
    "    Master_Data[['R1', 'R2']].replace(0, 0.0001, inplace=True)\n",
    "    Master_Data[['R1' , 'R2']].fillna(0.0001, inplace=True)\n",
    "    Master_Data['R3'] = Master_Data['R2'] / Master_Data['R1']  # R3 = R2 / R1\n",
    "\n",
    "    # fill NaN on chosen columns with 0\n",
    "    Master_Data[['R1', 'R2', 'R3', 'R4', 'R5']] = Master_Data[['R1', 'R2', 'R3', 'R4', 'R5']].fillna(0)\n",
    "    \n",
    "    Master_Data.to_csv(Master_Data_Path, index=False)\n",
    "\n",
    "    return True\n",
    "    \n",
    "    "
   ]
  }
 ],
 "metadata": {
  "kernelspec": {
   "display_name": "Python 3",
   "language": "python",
   "name": "python3"
  },
  "language_info": {
   "codemirror_mode": {
    "name": "ipython",
    "version": 3
   },
   "file_extension": ".py",
   "mimetype": "text/x-python",
   "name": "python",
   "nbconvert_exporter": "python",
   "pygments_lexer": "ipython3",
   "version": "3.9.2"
  },
  "orig_nbformat": 4
 },
 "nbformat": 4,
 "nbformat_minor": 2
}
