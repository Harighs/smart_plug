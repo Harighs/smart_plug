{
 "cells": [
  {
   "cell_type": "code",
   "execution_count": 1,
   "metadata": {},
   "outputs": [],
   "source": [
    "\n",
    "import requests\n",
    "import json\n",
    "import pandas as pd\n",
    "from urllib.parse import quote\n",
    "import datetime\n",
    "\n",
    "\n",
    "auth_url = 'https://smartmeter.netz-noe.at/orchestration/Authentication/Login'\n",
    "auth_payload = {\"user\": \"SommererPrivatstiftung\", \"pwd\": \"SpS*1996\"}\n",
    "\n",
    "auth_response = requests.post(auth_url, json=auth_payload)\n",
    "auth_cookie = auth_response.cookies['__Host-go4DavidSecurityToken']\n",
    "auth_xsrf_token = auth_response.cookies['XSRF-Token']\n",
    "### TODO: update date from mobile \n",
    "\n",
    "# data_url = f\"https://smartmeter.netz-noe.at/orchestration/ConsumptionRecord/Day?meterId=AT0020000000000000000000020826368&day=2023-8-24&__Host-go4DavidSecurityToken={auth_cookie}\"\n",
    "\n",
    "# data_url = f\"https://smartmeter.netz-noe.at/orchestration/ConsumptionRecord/BalanceWeek?pointOfConsumption=40565578&startDate=2023-8-22&endDate=2023-8-24\"\n",
    "data_url = f\"https://smartmeter.netz-noe.at/orchestration/ConsumptionRecord/Week?meterId=AT0020000000000000000000020826367&startDate=2023-8-21&endDate=2023-8-28\"\n",
    "headers = {\n",
    "    'Cookie': f'__Host-go4DavidSecurityToken={auth_cookie}; XSRF-Token={auth_xsrf_token}',\n",
    "}\n",
    "\n",
    "data_response = requests.get(data_url, headers=headers)"
   ]
  },
  {
   "cell_type": "code",
   "execution_count": 7,
   "metadata": {},
   "outputs": [
    {
     "data": {
      "text/plain": [
       "True"
      ]
     },
     "execution_count": 7,
     "metadata": {},
     "output_type": "execute_result"
    }
   ],
   "source": [
    "data_response.status_code == 200"
   ]
  },
  {
   "cell_type": "code",
   "execution_count": null,
   "metadata": {},
   "outputs": [],
   "source": [
    "# check status code on request.get()\n",
    "\n",
    "requests.get(data_url, headers=headers)"
   ]
  },
  {
   "cell_type": "code",
   "execution_count": null,
   "metadata": {},
   "outputs": [],
   "source": [
    "type(requests.get(data_url, headers=headers))"
   ]
  },
  {
   "cell_type": "code",
   "execution_count": null,
   "metadata": {},
   "outputs": [],
   "source": [
    "data_response = pd.DataFrame(data_response)[['meteredValues', 'peakDemandTimes']]\n",
    "data_response['meteredValues'].sum()"
   ]
  },
  {
   "cell_type": "code",
   "execution_count": null,
   "metadata": {},
   "outputs": [],
   "source": []
  },
  {
   "cell_type": "code",
   "execution_count": null,
   "metadata": {},
   "outputs": [],
   "source": []
  }
 ],
 "metadata": {
  "kernelspec": {
   "display_name": "yolo",
   "language": "python",
   "name": "python3"
  },
  "language_info": {
   "codemirror_mode": {
    "name": "ipython",
    "version": 3
   },
   "file_extension": ".py",
   "mimetype": "text/x-python",
   "name": "python",
   "nbconvert_exporter": "python",
   "pygments_lexer": "ipython3",
   "version": "3.8.17"
  },
  "orig_nbformat": 4
 },
 "nbformat": 4,
 "nbformat_minor": 2
}
