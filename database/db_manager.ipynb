{
 "cells": [
  {
   "cell_type": "code",
   "execution_count": 38,
   "metadata": {},
   "outputs": [
    {
     "name": "stdout",
     "output_type": "stream",
     "text": [
      "init called\n",
      "2.6.0\n",
      "[]\n",
      "None\n"
     ]
    }
   ],
   "source": [
    "import sys\n",
    "sys.path.append('../')\n",
    "from database.db_manager import DatabaseManager\n",
    "\n",
    "fromDate = \"2023-09-29\"\n",
    "toDate = \"2023-09-30\"\n",
    "\n",
    "db = DatabaseManager()\n",
    "result = db.read_datacache_withdate_table(fromDate, toDate)\n",
    "print(result)\n"
   ]
  },
  {
   "cell_type": "code",
   "execution_count": 20,
   "metadata": {},
   "outputs": [
    {
     "name": "stdout",
     "output_type": "stream",
     "text": [
      "init called\n",
      "2.6.0\n",
      "{\"report1\": \"15.68\", \"report2\": \"1676.68\", \"report3\": \"1613.50\", \"report4\": \"5004.94\", \"report5\": \"0.00\"}\n"
     ]
    }
   ],
   "source": [
    "import pandas as pd\n",
    "import sys\n",
    "sys.path.append('../')\n",
    "import os\n",
    "from flask import Flask, jsonify, request, json\n",
    "from database.db_manager import DatabaseManager\n",
    "\n",
    "db = DatabaseManager()\n",
    "result = db.read_datacache_withdate_table(\"2023-09-01\", \"2023-10-01\")[0]\n",
    "\n",
    "if (result[0] is not None or result[3] is not None):\n",
    "    # Create a dictionary with keys and values\n",
    "    json_data = {\n",
    "        \"report1\": str(\"{:.2f}\".format(result[0])),\n",
    "        \"report2\": str(\"{:.2f}\".format(result[1])),\n",
    "        \"report3\": str(\"{:.2f}\".format(result[2])),\n",
    "        \"report4\": str(\"{:.2f}\".format(result[3])),\n",
    "        \"report5\": str(\"{:.2f}\".format(result[4]))\n",
    "    }\n",
    "else:\n",
    "    json_data = {\n",
    "        \"report1\": \"0\",\n",
    "        \"report2\": \"0\",\n",
    "        \"report3\": \"0\",\n",
    "        \"report4\": \"0\",\n",
    "        \"report5\": \"0\",\n",
    "    }\n",
    "\n",
    "# Convert the dictionary to JSON format\n",
    "json_string = json.dumps(json_data)\n",
    "\n",
    "print(json_string)\n",
    "\n"
   ]
  },
  {
   "cell_type": "code",
   "execution_count": 32,
   "metadata": {},
   "outputs": [
    {
     "name": "stdout",
     "output_type": "stream",
     "text": [
      "2023-10m-01d\n"
     ]
    }
   ],
   "source": [
    "from datetime import datetime\n",
    "\n",
    "fromDate = datetime.now()\n",
    "formatted_date = f\"{fromDate:%Y-%m-%d}\"\n",
    "# Or using format method: formatted_date = \"From Date: {}\".format(fromDate)\n",
    "print(formatted_date)\n",
    "\n",
    "\n"
   ]
  }
 ],
 "metadata": {
  "kernelspec": {
   "display_name": "Python 3",
   "language": "python",
   "name": "python3"
  },
  "language_info": {
   "codemirror_mode": {
    "name": "ipython",
    "version": 3
   },
   "file_extension": ".py",
   "mimetype": "text/x-python",
   "name": "python",
   "nbconvert_exporter": "python",
   "pygments_lexer": "ipython3",
   "version": "3.9.2"
  },
  "orig_nbformat": 4
 },
 "nbformat": 4,
 "nbformat_minor": 2
}
