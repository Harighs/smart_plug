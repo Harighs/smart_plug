{
 "cells": [
  {
   "cell_type": "code",
   "execution_count": 2,
   "metadata": {},
   "outputs": [],
   "source": [
    "import pandas as pd\n",
    "import json\n",
    "import numpy as np\n",
    "import time\n",
    "import matplotlib.pyplot as plt\n",
    "import datetime"
   ]
  },
  {
   "cell_type": "code",
   "execution_count": 3,
   "metadata": {},
   "outputs": [],
   "source": [
    "marketdata_df = pd.read_json('marketdata.json')\n",
    "marketdata_df = pd.json_normalize(marketdata_df['data'])\n",
    "# Convert 'start_timestamp' and 'end_timestamp' columns to datetime\n",
    "marketdata_df['start_timestamp'] = pd.to_datetime(marketdata_df['start_timestamp'], unit='ms')\n",
    "marketdata_df['end_timestamp'] = pd.to_datetime(marketdata_df['end_timestamp'], unit='ms')"
   ]
  },
  {
   "cell_type": "code",
   "execution_count": 8,
   "metadata": {},
   "outputs": [],
   "source": [
    "creterion_timestamp  = marketdata_df[marketdata_df['marketprice'] <= marketdata_df['marketprice'].max()]"
   ]
  },
  {
   "cell_type": "code",
   "execution_count": 9,
   "metadata": {},
   "outputs": [
    {
     "data": {
      "text/html": [
       "<div>\n",
       "<style scoped>\n",
       "    .dataframe tbody tr th:only-of-type {\n",
       "        vertical-align: middle;\n",
       "    }\n",
       "\n",
       "    .dataframe tbody tr th {\n",
       "        vertical-align: top;\n",
       "    }\n",
       "\n",
       "    .dataframe thead th {\n",
       "        text-align: right;\n",
       "    }\n",
       "</style>\n",
       "<table border=\"1\" class=\"dataframe\">\n",
       "  <thead>\n",
       "    <tr style=\"text-align: right;\">\n",
       "      <th></th>\n",
       "      <th>start_timestamp</th>\n",
       "      <th>end_timestamp</th>\n",
       "      <th>marketprice</th>\n",
       "      <th>unit</th>\n",
       "    </tr>\n",
       "  </thead>\n",
       "  <tbody>\n",
       "    <tr>\n",
       "      <th>0</th>\n",
       "      <td>2023-07-02 10:00:00</td>\n",
       "      <td>2023-07-02 11:00:00</td>\n",
       "      <td>-38.68</td>\n",
       "      <td>Eur/MWh</td>\n",
       "    </tr>\n",
       "    <tr>\n",
       "      <th>1</th>\n",
       "      <td>2023-07-02 11:00:00</td>\n",
       "      <td>2023-07-02 12:00:00</td>\n",
       "      <td>-86.93</td>\n",
       "      <td>Eur/MWh</td>\n",
       "    </tr>\n",
       "    <tr>\n",
       "      <th>2</th>\n",
       "      <td>2023-07-02 12:00:00</td>\n",
       "      <td>2023-07-02 13:00:00</td>\n",
       "      <td>-500.00</td>\n",
       "      <td>Eur/MWh</td>\n",
       "    </tr>\n",
       "    <tr>\n",
       "      <th>3</th>\n",
       "      <td>2023-07-02 13:00:00</td>\n",
       "      <td>2023-07-02 14:00:00</td>\n",
       "      <td>-134.94</td>\n",
       "      <td>Eur/MWh</td>\n",
       "    </tr>\n",
       "    <tr>\n",
       "      <th>4</th>\n",
       "      <td>2023-07-02 14:00:00</td>\n",
       "      <td>2023-07-02 15:00:00</td>\n",
       "      <td>-36.61</td>\n",
       "      <td>Eur/MWh</td>\n",
       "    </tr>\n",
       "    <tr>\n",
       "      <th>5</th>\n",
       "      <td>2023-07-02 15:00:00</td>\n",
       "      <td>2023-07-02 16:00:00</td>\n",
       "      <td>0.08</td>\n",
       "      <td>Eur/MWh</td>\n",
       "    </tr>\n",
       "    <tr>\n",
       "      <th>6</th>\n",
       "      <td>2023-07-02 16:00:00</td>\n",
       "      <td>2023-07-02 17:00:00</td>\n",
       "      <td>19.18</td>\n",
       "      <td>Eur/MWh</td>\n",
       "    </tr>\n",
       "    <tr>\n",
       "      <th>7</th>\n",
       "      <td>2023-07-02 17:00:00</td>\n",
       "      <td>2023-07-02 18:00:00</td>\n",
       "      <td>40.76</td>\n",
       "      <td>Eur/MWh</td>\n",
       "    </tr>\n",
       "    <tr>\n",
       "      <th>8</th>\n",
       "      <td>2023-07-02 18:00:00</td>\n",
       "      <td>2023-07-02 19:00:00</td>\n",
       "      <td>77.30</td>\n",
       "      <td>Eur/MWh</td>\n",
       "    </tr>\n",
       "    <tr>\n",
       "      <th>9</th>\n",
       "      <td>2023-07-02 19:00:00</td>\n",
       "      <td>2023-07-02 20:00:00</td>\n",
       "      <td>86.72</td>\n",
       "      <td>Eur/MWh</td>\n",
       "    </tr>\n",
       "    <tr>\n",
       "      <th>10</th>\n",
       "      <td>2023-07-02 20:00:00</td>\n",
       "      <td>2023-07-02 21:00:00</td>\n",
       "      <td>94.90</td>\n",
       "      <td>Eur/MWh</td>\n",
       "    </tr>\n",
       "    <tr>\n",
       "      <th>11</th>\n",
       "      <td>2023-07-02 21:00:00</td>\n",
       "      <td>2023-07-02 22:00:00</td>\n",
       "      <td>86.08</td>\n",
       "      <td>Eur/MWh</td>\n",
       "    </tr>\n",
       "  </tbody>\n",
       "</table>\n",
       "</div>"
      ],
      "text/plain": [
       "       start_timestamp       end_timestamp  marketprice     unit\n",
       "0  2023-07-02 10:00:00 2023-07-02 11:00:00       -38.68  Eur/MWh\n",
       "1  2023-07-02 11:00:00 2023-07-02 12:00:00       -86.93  Eur/MWh\n",
       "2  2023-07-02 12:00:00 2023-07-02 13:00:00      -500.00  Eur/MWh\n",
       "3  2023-07-02 13:00:00 2023-07-02 14:00:00      -134.94  Eur/MWh\n",
       "4  2023-07-02 14:00:00 2023-07-02 15:00:00       -36.61  Eur/MWh\n",
       "5  2023-07-02 15:00:00 2023-07-02 16:00:00         0.08  Eur/MWh\n",
       "6  2023-07-02 16:00:00 2023-07-02 17:00:00        19.18  Eur/MWh\n",
       "7  2023-07-02 17:00:00 2023-07-02 18:00:00        40.76  Eur/MWh\n",
       "8  2023-07-02 18:00:00 2023-07-02 19:00:00        77.30  Eur/MWh\n",
       "9  2023-07-02 19:00:00 2023-07-02 20:00:00        86.72  Eur/MWh\n",
       "10 2023-07-02 20:00:00 2023-07-02 21:00:00        94.90  Eur/MWh\n",
       "11 2023-07-02 21:00:00 2023-07-02 22:00:00        86.08  Eur/MWh"
      ]
     },
     "execution_count": 9,
     "metadata": {},
     "output_type": "execute_result"
    }
   ],
   "source": [
    "creterion_timestamp"
   ]
  },
  {
   "cell_type": "code",
   "execution_count": 13,
   "metadata": {},
   "outputs": [
    {
     "data": {
      "text/plain": [
       "datetime.time(13, 13, 24, 191334)"
      ]
     },
     "execution_count": 13,
     "metadata": {},
     "output_type": "execute_result"
    }
   ],
   "source": [
    "current_time = datetime.datetime.now().time()\n",
    "current_time"
   ]
  },
  {
   "cell_type": "code",
   "execution_count": 17,
   "metadata": {},
   "outputs": [
    {
     "name": "stdout",
     "output_type": "stream",
     "text": [
      "ok\n"
     ]
    }
   ],
   "source": [
    "bulb = False\n",
    "\n",
    "for _, row in creterion_timestamp.iterrows():\n",
    "    if row['start_timestamp'].time() <= current_time <= row['end_timestamp'].time():\n",
    "        print('ok')\n",
    "        bulb = True\n",
    "        break\n",
    "\n",
    "if not bulb:\n",
    "    print('not ok')"
   ]
  },
  {
   "cell_type": "code",
   "execution_count": null,
   "metadata": {},
   "outputs": [],
   "source": [
    "bulb = False\n",
    "\n",
    "for _, row in creterion_timestamp.iterrows():\n",
    "    if row['start_timestamp'].time() <= current_time <= row['end_timestamp'].time():\n",
    "        print('ok')\n",
    "        bulb = True\n",
    "        break\n",
    "\n",
    "if not bulb:\n",
    "    print('not ok')\n"
   ]
  },
  {
   "cell_type": "code",
   "execution_count": null,
   "metadata": {},
   "outputs": [],
   "source": [
    "\n",
    "# Convert 'start_timestamp' and 'end_timestamp' columns to datetime\n",
    "df['start_timestamp'] = pd.to_datetime(df['start_timestamp'], unit='ms')\n",
    "df['end_timestamp'] = pd.to_datetime(df['end_timestamp'], unit='ms')\n",
    "\n",
    "# Print the updated DataFrame\n",
    "print(df)"
   ]
  },
  {
   "cell_type": "code",
   "execution_count": null,
   "metadata": {},
   "outputs": [],
   "source": [
    "df['marketprice'].describe()"
   ]
  },
  {
   "cell_type": "code",
   "execution_count": null,
   "metadata": {},
   "outputs": [],
   "source": [
    "# get timestamp and end_timestamp where marketprice is negative\n",
    "\n",
    "df[df['marketprice'] < df['marketprice'].max()*0.75]"
   ]
  },
  {
   "cell_type": "code",
   "execution_count": null,
   "metadata": {},
   "outputs": [],
   "source": [
    "price = df[df['marketprice'] <= df['marketprice'].max()]"
   ]
  },
  {
   "cell_type": "code",
   "execution_count": null,
   "metadata": {},
   "outputs": [],
   "source": [
    "# get bar chart for x in time and y in marketprice\n",
    "price.plot.bar(x='start_timestamp', y='marketprice')"
   ]
  },
  {
   "cell_type": "code",
   "execution_count": null,
   "metadata": {},
   "outputs": [],
   "source": [
    "df[df['marketprice'] <= df['marketprice'].max()*0.75].plot.bar(x='start_timestamp', y='marketprice')"
   ]
  },
  {
   "cell_type": "code",
   "execution_count": null,
   "metadata": {},
   "outputs": [],
   "source": [
    "creterion_timestamp  = df[df['marketprice'] <= df['marketprice']]\n",
    "creterion_timestamp"
   ]
  },
  {
   "cell_type": "code",
   "execution_count": null,
   "metadata": {},
   "outputs": [],
   "source": [
    "while True:\n",
    "    # Get the current time\n",
    "    current_time = datetime.datetime.now().time()\n",
    "\n",
    "    # Iterate over the rows of the DataFrame\n",
    "    for _, row in creterion_timestamp.iterrows():\n",
    "        start_time = row['start_timestamp'].time()\n",
    "        end_time = row['end_timestamp'].time()\n",
    "\n",
    "        # Check if the current time is within the start and end time for the current row\n",
    "        \n",
    "        if start_time <= current_time <= end_time:\n",
    "            print('Current time is between start and end time for row', _)\n",
    "            # bulb on\n",
    "        else:\n",
    "            print('Price is too high')\n",
    "\n",
    "    # Wait for some time before checking again\n",
    "    time.sleep(60)  # Sleep for 60 seconds (adjust as needed)"
   ]
  },
  {
   "cell_type": "code",
   "execution_count": null,
   "metadata": {},
   "outputs": [],
   "source": []
  }
 ],
 "metadata": {
  "kernelspec": {
   "display_name": "yolo",
   "language": "python",
   "name": "python3"
  },
  "language_info": {
   "codemirror_mode": {
    "name": "ipython",
    "version": 3
   },
   "file_extension": ".py",
   "mimetype": "text/x-python",
   "name": "python",
   "nbconvert_exporter": "python",
   "pygments_lexer": "ipython3",
   "version": "3.8.16"
  },
  "orig_nbformat": 4
 },
 "nbformat": 4,
 "nbformat_minor": 2
}
