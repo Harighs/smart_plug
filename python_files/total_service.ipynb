{
 "cells": [
  {
   "cell_type": "code",
   "execution_count": 44,
   "metadata": {},
   "outputs": [],
   "source": [
    "import requests\n",
    "import pandas as pd\n",
    "from urllib.parse import urlencode\n"
   ]
  },
  {
   "cell_type": "code",
   "execution_count": 94,
   "metadata": {},
   "outputs": [],
   "source": [
    "class Services_Awattar_Smartmeter:\n",
    "    def __init__(self):\n",
    "        # Awattar Properties\n",
    "        # self.awattar_json_url = 'https://api.awattar.de/v1/marketdata'\n",
    "        self.awattar_json_url = \"https://api.awattar.at/v1/marketdata?start={}&end={}\"\n",
    "        # self.awattar_json_url = \"https://smartmeter.netz-noe.at/orchestration/ConsumptionRecord/Week?meterId={}&startDate={}&endDate={}\"\n",
    "\n",
    "        \n",
    "        # Smartmeter Properties\n",
    "        self.smartmeter_base_url = 'https://smartmeter.netz-noe.at/orchestration/Authentication/Login'\n",
    "        self.smartmeter_url_credintials = {\"user\": \"SommererPrivatstiftung\", \"pwd\": \"SpS*1996\"}\n",
    "        # self.smartmeter_json_url = \"https://smartmeter.netz-noe.at/orchestration/ConsumptionRecord/Day?meterId=AT0020000000000000000000020826368&day={}&__Host-go4DavidSecurityToken={}\"\n",
    "        self.smartmeter_json_url = \"https://smartmeter.netz-noe.at/orchestration/ConsumptionRecord/Week?meterId={}&startDate={}&endDate={}\"\n",
    "\n",
    "    \n",
    "    \n",
    "    def get_smartmeter_data(self, meter_id, start_date, end_date):\n",
    "        auth_cookie = self.post_request(self)\n",
    "        headers = {\n",
    "            'Cookie': f'__Host-go4DavidSecurityToken={auth_cookie};',\n",
    "        }\n",
    "\n",
    "        meter_id = 'AT0020000000000000000000020826368'\n",
    "        # Using parameters in the URL\n",
    "        url = 'https://smartmeter.netz-noe.at/orchestration/ConsumptionRecord/Week?meterId=AT0020000000000000000000020826368&startDate=2023-9-25&endDate=2023-10-2'\n",
    "        # url = f'https://smartmeter.netz-noe.at/orchestration/ConsumptionRecord/Week?meterId={meter_id}&startDate={start_date}&endDate={end_date}'\n",
    "\n",
    "        # Making a request\n",
    "        response = requests.get(url, headers=headers)\n",
    "\n",
    "        # Check if the request was successful\n",
    "        if response.status_code == 200:\n",
    "            try:\n",
    "                smartmeter_json_response = response.json()\n",
    "            except ValueError:  # includes simplejson.decoder.JSONDecodeError\n",
    "                print('Decoding JSON has failed')\n",
    "                print('Response text:', response.text)\n",
    "                return None\n",
    "\n",
    "            smartmeter_json_response = pd.DataFrame(smartmeter_json_response)[['meteredValues', 'peakDemandTimes']]\n",
    "            return smartmeter_json_response\n",
    "        \n",
    "        else:\n",
    "            print(f\"Request failed with status code {response.status_code}: {response.text}\")\n",
    "            return None\n",
    "    \n",
    "    @staticmethod\n",
    "    def post_request(self):\n",
    "        auth_cookie, auth_xsrf_token, nsc_wt = None, None, None\n",
    "        auth_response = requests.post(self.smartmeter_base_url, json=self.smartmeter_url_credintials)\n",
    "        if auth_response.status_code == 200:\n",
    "            print(\"Authentication successful...\")\n",
    "            auth_cookie = auth_response.cookies['__Host-go4DavidSecurityToken']\n",
    "            auth_xsrf_token = auth_response.cookies['XSRF-Token']\n",
    "            nsc_wt = auth_response.cookies['NSC_WT_TWYUXFCQ-TTM']\n",
    "            return auth_cookie\n",
    "\n",
    "    def get_awattar_data(self, start_date, end_date): \n",
    "        \"\"\"\n",
    "        INPUT:\n",
    "            start_date: str --> 'YYYY:MM:dd hh:mm:ss'\n",
    "            end_date: str --> 'YYYY:MM:dd hh:mm:ss'\n",
    "        PARAMS: \n",
    "            self.awattar_json_url\n",
    "        OUTPUT: awattar_json_response: pd.DataFrame\n",
    "        \"\"\"\n",
    "        # Get Awattar Data\n",
    "        json_url = self.awattar_json_url.format(start_date, end_date)\n",
    "        awattar_json_response = requests.get(json_url).json()\n",
    "        awattar_json_response = pd.json_normalize(awattar_json_response['data'])\n",
    "        awattar_json_response['start_timestamp'] = pd.to_datetime(awattar_json_response['start_timestamp'], unit='ms')\n",
    "        awattar_json_response['end_timestamp'] = pd.to_datetime(awattar_json_response['end_timestamp'], unit='ms')\n",
    "        return awattar_json_response\n",
    "    \n",
    "     "
   ]
  },
  {
   "cell_type": "code",
   "execution_count": 99,
   "metadata": {},
   "outputs": [
    {
     "ename": "TypeError",
     "evalue": "'Services_Awattar_Smartmeter' object is not callable",
     "output_type": "error",
     "traceback": [
      "\u001b[0;31m---------------------------------------------------------------------------\u001b[0m",
      "\u001b[0;31mTypeError\u001b[0m                                 Traceback (most recent call last)",
      "\u001b[1;32m/home/pi/smart_plug/python_files/total_service.ipynb Cell 3\u001b[0m line \u001b[0;36m3\n\u001b[1;32m      <a href='vscode-notebook-cell://ssh-remote%2B192.168.1.238/home/pi/smart_plug/python_files/total_service.ipynb#X10sdnNjb2RlLXJlbW90ZQ%3D%3D?line=0'>1</a>\u001b[0m \u001b[39mcls\u001b[39m \u001b[39m=\u001b[39m Services_Awattar_Smartmeter()\n\u001b[0;32m----> <a href='vscode-notebook-cell://ssh-remote%2B192.168.1.238/home/pi/smart_plug/python_files/total_service.ipynb#X10sdnNjb2RlLXJlbW90ZQ%3D%3D?line=2'>3</a>\u001b[0m sep_data \u001b[39m=\u001b[39m \u001b[39mcls\u001b[39;49m(\u001b[39m'\u001b[39;49m\u001b[39m1693526400000\u001b[39;49m\u001b[39m'\u001b[39;49m, \u001b[39m'\u001b[39;49m\u001b[39m1696118399000\u001b[39;49m\u001b[39m'\u001b[39;49m)\n",
      "\u001b[0;31mTypeError\u001b[0m: 'Services_Awattar_Smartmeter' object is not callable"
     ]
    }
   ],
   "source": [
    "cls = Services_Awattar_Smartmeter()\n",
    "\n",
    "sep_data = cls.sm('1693526400000', '1696118399000')"
   ]
  },
  {
   "cell_type": "code",
   "execution_count": 96,
   "metadata": {},
   "outputs": [],
   "source": [
    "sep_data.to_csv('sep_data.csv', index=False)"
   ]
  },
  {
   "cell_type": "code",
   "execution_count": 97,
   "metadata": {},
   "outputs": [
    {
     "name": "stdout",
     "output_type": "stream",
     "text": [
      "https://smartmeter.netz-noe.at/orchestration/ConsumptionRecord/Week?meterId=AT0020000000000000000000020826368&startDate=2021-09-01+09%3A00%3A00&endDate=2021-09-30+09%3A00%3A00\n"
     ]
    }
   ],
   "source": [
    "from urllib.parse import urlencode, quote_plus\n",
    "\n",
    "# Your parameters\n",
    "params = {\n",
    "    'meterId': 'AT0020000000000000000000020826368',\n",
    "    'startDate': '2021-09-01 09:00:00',\n",
    "    'endDate': '2021-09-30 09:00:00'\n",
    "}\n",
    "\n",
    "# Base URL\n",
    "base_url = \"https://smartmeter.netz-noe.at/orchestration/ConsumptionRecord/Week\"\n",
    "\n",
    "# Constructing the full URL\n",
    "url = f\"{base_url}?{urlencode(params)}\"\n",
    "\n",
    "print(url)\n"
   ]
  },
  {
   "cell_type": "code",
   "execution_count": 98,
   "metadata": {},
   "outputs": [
    {
     "name": "stdout",
     "output_type": "stream",
     "text": [
      "Authentication successful...\n",
      "Request failed with status code 401: \n"
     ]
    }
   ],
   "source": [
    "cls.get_smartmeter_data('AT0020000000000000000000020826368', '2023-09-01', '2023-09-29')"
   ]
  },
  {
   "cell_type": "code",
   "execution_count": null,
   "metadata": {},
   "outputs": [],
   "source": []
  }
 ],
 "metadata": {
  "kernelspec": {
   "display_name": "Python 3",
   "language": "python",
   "name": "python3"
  },
  "language_info": {
   "codemirror_mode": {
    "name": "ipython",
    "version": 3
   },
   "file_extension": ".py",
   "mimetype": "text/x-python",
   "name": "python",
   "nbconvert_exporter": "python",
   "pygments_lexer": "ipython3",
   "version": "3.9.2"
  },
  "orig_nbformat": 4
 },
 "nbformat": 4,
 "nbformat_minor": 2
}
