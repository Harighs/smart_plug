{
 "cells": [
  {
   "cell_type": "code",
   "execution_count": 4,
   "metadata": {},
   "outputs": [
    {
     "name": "stdout",
     "output_type": "stream",
     "text": [
      "https://smartmeter.netz-noe.at/orchestration/User/GetMeteringPointByAccountId?accountId=000019014443&__Host-go4DavidSecurityToken=auWw4uTSqKZxvLdJAYVUtqujZ%252b8%253d\n"
     ]
    },
    {
     "data": {
      "text/plain": [
       "<Response [401]>"
      ]
     },
     "execution_count": 4,
     "metadata": {},
     "output_type": "execute_result"
    }
   ],
   "source": [
    "import requests\n",
    "import json\n",
    "import pandas as pd\n",
    "from urllib.parse import quote\n",
    "\n",
    "\n",
    "# URL\n",
    "url = 'https://smartmeter.netz-noe.at/orchestration/Authentication/Login'\n",
    "myobj = {\"user\":\"SommererPrivatstiftung\",\"pwd\":\"SpS*1996\"}\n",
    "x = requests.post(url, json = myobj)\n",
    "\n",
    "\n",
    "accountId = '000019014443'\n",
    "cookie = str(x.cookies['__Host-go4DavidSecurityToken'])  # Assuming 'x' is defined elsewhere\n",
    "get_url = f\"https://smartmeter.netz-noe.at/orchestration/User/GetMeteringPointByAccountId?accountId={accountId}&__Host-go4DavidSecurityToken={cookie}\"\n",
    "\n",
    "# response = requests.get(get_url)\n",
    "# data = response.json()\n",
    "\n",
    "\n",
    "# URL components\n",
    "base_url = 'https://smartmeter.netz-noe.at/orchestration/User/GetMeteringPointByAccountId?'\n",
    "\n",
    "# Encode the URL components\n",
    "encoded_param1 = quote(accountId)\n",
    "encoded_param2 = quote(cookie)\n",
    "\n",
    "# Construct the encoded URL\n",
    "encoded_url = f'{base_url}accountId={encoded_param1}&__Host-go4DavidSecurityToken={encoded_param2}'\n",
    "\n",
    "print(encoded_url)\n",
    "requests.get(get_url, headers={'Cookie': f'__Host-go4DavidSecurityToken={cookie}'})"
   ]
  },
  {
   "cell_type": "code",
   "execution_count": 4,
   "metadata": {},
   "outputs": [
    {
     "ename": "NameError",
     "evalue": "name 'headers' is not defined",
     "output_type": "error",
     "traceback": [
      "\u001b[0;31m---------------------------------------------------------------------------\u001b[0m",
      "\u001b[0;31mNameError\u001b[0m                                 Traceback (most recent call last)",
      "Cell \u001b[0;32mIn[4], line 1\u001b[0m\n\u001b[0;32m----> 1\u001b[0m data_response \u001b[39m=\u001b[39m requests\u001b[39m.\u001b[39mget(get_url, headers\u001b[39m=\u001b[39mheaders)\u001b[39m.\u001b[39mjson()\n\u001b[1;32m      2\u001b[0m \u001b[39mself\u001b[39m\u001b[39m.\u001b[39mSMART_METER_DATA \u001b[39m=\u001b[39m pd\u001b[39m.\u001b[39mDataFrame(data_response[\u001b[39m0\u001b[39m])\n",
      "\u001b[0;31mNameError\u001b[0m: name 'headers' is not defined"
     ]
    }
   ],
   "source": [
    "data_response = requests.get(get_url, headers=headers).json()\n",
    "self.SMART_METER_DATA = pd.DataFrame(data_response[0])"
   ]
  },
  {
   "cell_type": "code",
   "execution_count": 5,
   "metadata": {},
   "outputs": [
    {
     "data": {
      "text/plain": [
       "<Response [401]>"
      ]
     },
     "execution_count": 5,
     "metadata": {},
     "output_type": "execute_result"
    }
   ],
   "source": [
    "import requests\n",
    "import json\n",
    "import pandas as pd\n",
    "from urllib.parse import quote\n",
    "\n",
    "\n",
    "# URL\n",
    "url = 'https://smartmeter.netz-noe.at/orchestration/Authentication/Login'\n",
    "myobj = {\"user\":\"SommererPrivatstiftung\",\"pwd\":\"SpS*1996\"}\n",
    "x = requests.post(url, json = myobj)\n",
    "\n",
    "accountId = '000019014443'\n",
    "cookie = str(x.cookies['__Host-go4DavidSecurityToken'])  # Assuming 'x' is defined elsewhere\n",
    "get_url = f\"https://smartmeter.netz-noe.at/orchestration/User/GetMeteringPointByAccountId?accountId={accountId}&__Host-go4DavidSecurityToken={cookie}\"\n",
    "\n",
    "\n",
    "requests.get(get_url)"
   ]
  },
  {
   "cell_type": "code",
   "execution_count": 7,
   "metadata": {},
   "outputs": [
    {
     "ename": "SyntaxError",
     "evalue": "cannot assign to operator (3622877948.py, line 15)",
     "output_type": "error",
     "traceback": [
      "\u001b[0;36m  Cell \u001b[0;32mIn[7], line 15\u001b[0;36m\u001b[0m\n\u001b[0;31m    XSRF-Token =  ''\u001b[0m\n\u001b[0m    ^\u001b[0m\n\u001b[0;31mSyntaxError\u001b[0m\u001b[0;31m:\u001b[0m cannot assign to operator\n"
     ]
    }
   ],
   "source": [
    "import requests\n",
    "import json\n",
    "import pandas as pd\n",
    "from urllib.parse import quote\n",
    "\n",
    "# URL\n",
    "url = 'https://smartmeter.netz-noe.at/orchestration/Authentication/Login'\n",
    "myobj = {\"user\": \"SommererPrivatstiftung\", \"pwd\": \"SpS*1996\"}\n",
    "x = requests.post(url, json=myobj)\n",
    "\n",
    "accountId = '000019014443'\n",
    "cookie = str(x.cookies['__Host-go4DavidSecurityToken'])  # Assuming 'x' is defined elsewhere\n",
    "get_url = f\"https://smartmeter.netz-noe.at/orchestration/User/GetMeteringPointByAccountId?accountId={accountId}\"\n",
    "\n",
    "XSRF-Token =  ''\n",
    "NSC_WT_TWYUXFCQ-TTM = ''\n",
    "__Host-go4DavidSecurityToken = ''\n",
    "# Define headers\n",
    "headers = {#\n",
    "    \"Cookie\": f\"__Host-go4DavidSecurityToken={cookie}\",\n",
    "    \"User-Agent\": \"chrome\",  # Replace with an actual user agent string\n",
    "}\n",
    "\n",
    "# Make the GET request with headers\n",
    "response = requests.get(get_url, headers=headers)\n",
    "\n",
    "# Process the response\n",
    "if response.status_code == 200:\n",
    "    data = response.json()  # Assuming the response contains JSON data\n",
    "    # Process the data as needed\n",
    "else:\n",
    "    print(\"Request failed with status code:\", response.status_code)\n"
   ]
  },
  {
   "cell_type": "code",
   "execution_count": 4,
   "metadata": {},
   "outputs": [
    {
     "data": {
      "text/plain": [
       "['XSRF-Token', 'NSC_WT_TWYUXFCQ-TTM', '__Host-go4DavidSecurityToken']"
      ]
     },
     "execution_count": 4,
     "metadata": {},
     "output_type": "execute_result"
    }
   ],
   "source": [
    "x.cookies.keys()"
   ]
  },
  {
   "cell_type": "code",
   "execution_count": 2,
   "metadata": {},
   "outputs": [],
   "source": [
    "\n",
    "import requests\n",
    "import json\n",
    "import pandas as pd\n",
    "from urllib.parse import quote\n",
    "import datetime\n",
    "\n",
    "\n",
    "auth_url = 'https://smartmeter.netz-noe.at/orchestration/Authentication/Login'\n",
    "auth_payload = {\"user\": \"SommererPrivatstiftung\", \"pwd\": \"SpS*1996\"}\n",
    "\n",
    "auth_response = requests.post(auth_url, json=auth_payload)\n",
    "\n",
    "\n",
    "auth_cookie = auth_response.cookies['__Host-go4DavidSecurityToken']\n",
    "auth_xsrf_token = auth_response.cookies['XSRF-Token']\n",
    "cur_date = datetime.datetime.now().strftime(\"%Y-%m-%d\")\n",
    "data_url = f\"https://smartmeter.netz-noe.at/orchestration/ConsumptionRecord/Day?meterId=AT0020000000000000000000020826368&day=2023-8-19&__Host-go4DavidSecurityToken={auth_cookie}\"\n",
    "\n",
    "headers = {\n",
    "    'Cookie': f'__Host-go4DavidSecurityToken={auth_cookie}; XSRF-Token={auth_xsrf_token}',\n",
    "}\n",
    "\n",
    "data_response = requests.get(data_url, headers=headers).json()\n",
    "        "
   ]
  },
  {
   "cell_type": "code",
   "execution_count": 3,
   "metadata": {},
   "outputs": [
    {
     "data": {
      "text/html": [
       "<div>\n",
       "<style scoped>\n",
       "    .dataframe tbody tr th:only-of-type {\n",
       "        vertical-align: middle;\n",
       "    }\n",
       "\n",
       "    .dataframe tbody tr th {\n",
       "        vertical-align: top;\n",
       "    }\n",
       "\n",
       "    .dataframe thead th {\n",
       "        text-align: right;\n",
       "    }\n",
       "</style>\n",
       "<table border=\"1\" class=\"dataframe\">\n",
       "  <thead>\n",
       "    <tr style=\"text-align: right;\">\n",
       "      <th></th>\n",
       "      <th>meteredValues</th>\n",
       "      <th>estimatedValues</th>\n",
       "      <th>gridUsageLeftoverValues</th>\n",
       "      <th>selfCoverageValues</th>\n",
       "      <th>jointTenancyProportionValues</th>\n",
       "      <th>meteredPeakDemands</th>\n",
       "      <th>estimatedPeakDemands</th>\n",
       "      <th>peakDemandTimes</th>\n",
       "      <th>selfCoverageRenewableEnergyValue</th>\n",
       "    </tr>\n",
       "  </thead>\n",
       "  <tbody>\n",
       "    <tr>\n",
       "      <th>0</th>\n",
       "      <td>0.000</td>\n",
       "      <td>None</td>\n",
       "      <td>None</td>\n",
       "      <td>None</td>\n",
       "      <td>None</td>\n",
       "      <td>0.000</td>\n",
       "      <td>None</td>\n",
       "      <td>2023-08-19T00:15:00</td>\n",
       "      <td>None</td>\n",
       "    </tr>\n",
       "    <tr>\n",
       "      <th>1</th>\n",
       "      <td>0.000</td>\n",
       "      <td>None</td>\n",
       "      <td>None</td>\n",
       "      <td>None</td>\n",
       "      <td>None</td>\n",
       "      <td>0.000</td>\n",
       "      <td>None</td>\n",
       "      <td>2023-08-19T00:30:00</td>\n",
       "      <td>None</td>\n",
       "    </tr>\n",
       "    <tr>\n",
       "      <th>2</th>\n",
       "      <td>0.388</td>\n",
       "      <td>None</td>\n",
       "      <td>None</td>\n",
       "      <td>None</td>\n",
       "      <td>None</td>\n",
       "      <td>1.552</td>\n",
       "      <td>None</td>\n",
       "      <td>2023-08-19T00:45:00</td>\n",
       "      <td>None</td>\n",
       "    </tr>\n",
       "    <tr>\n",
       "      <th>3</th>\n",
       "      <td>0.000</td>\n",
       "      <td>None</td>\n",
       "      <td>None</td>\n",
       "      <td>None</td>\n",
       "      <td>None</td>\n",
       "      <td>0.000</td>\n",
       "      <td>None</td>\n",
       "      <td>2023-08-19T01:00:00</td>\n",
       "      <td>None</td>\n",
       "    </tr>\n",
       "    <tr>\n",
       "      <th>4</th>\n",
       "      <td>0.000</td>\n",
       "      <td>None</td>\n",
       "      <td>None</td>\n",
       "      <td>None</td>\n",
       "      <td>None</td>\n",
       "      <td>0.000</td>\n",
       "      <td>None</td>\n",
       "      <td>2023-08-19T01:15:00</td>\n",
       "      <td>None</td>\n",
       "    </tr>\n",
       "    <tr>\n",
       "      <th>...</th>\n",
       "      <td>...</td>\n",
       "      <td>...</td>\n",
       "      <td>...</td>\n",
       "      <td>...</td>\n",
       "      <td>...</td>\n",
       "      <td>...</td>\n",
       "      <td>...</td>\n",
       "      <td>...</td>\n",
       "      <td>...</td>\n",
       "    </tr>\n",
       "    <tr>\n",
       "      <th>91</th>\n",
       "      <td>0.465</td>\n",
       "      <td>None</td>\n",
       "      <td>None</td>\n",
       "      <td>None</td>\n",
       "      <td>None</td>\n",
       "      <td>1.860</td>\n",
       "      <td>None</td>\n",
       "      <td>2023-08-19T23:00:00</td>\n",
       "      <td>None</td>\n",
       "    </tr>\n",
       "    <tr>\n",
       "      <th>92</th>\n",
       "      <td>1.125</td>\n",
       "      <td>None</td>\n",
       "      <td>None</td>\n",
       "      <td>None</td>\n",
       "      <td>None</td>\n",
       "      <td>4.500</td>\n",
       "      <td>None</td>\n",
       "      <td>2023-08-19T23:15:00</td>\n",
       "      <td>None</td>\n",
       "    </tr>\n",
       "    <tr>\n",
       "      <th>93</th>\n",
       "      <td>0.700</td>\n",
       "      <td>None</td>\n",
       "      <td>None</td>\n",
       "      <td>None</td>\n",
       "      <td>None</td>\n",
       "      <td>2.800</td>\n",
       "      <td>None</td>\n",
       "      <td>2023-08-19T23:30:00</td>\n",
       "      <td>None</td>\n",
       "    </tr>\n",
       "    <tr>\n",
       "      <th>94</th>\n",
       "      <td>0.153</td>\n",
       "      <td>None</td>\n",
       "      <td>None</td>\n",
       "      <td>None</td>\n",
       "      <td>None</td>\n",
       "      <td>0.612</td>\n",
       "      <td>None</td>\n",
       "      <td>2023-08-19T23:45:00</td>\n",
       "      <td>None</td>\n",
       "    </tr>\n",
       "    <tr>\n",
       "      <th>95</th>\n",
       "      <td>0.451</td>\n",
       "      <td>None</td>\n",
       "      <td>None</td>\n",
       "      <td>None</td>\n",
       "      <td>None</td>\n",
       "      <td>1.804</td>\n",
       "      <td>None</td>\n",
       "      <td>2023-08-20T00:00:00</td>\n",
       "      <td>None</td>\n",
       "    </tr>\n",
       "  </tbody>\n",
       "</table>\n",
       "<p>96 rows × 9 columns</p>\n",
       "</div>"
      ],
      "text/plain": [
       "    meteredValues estimatedValues gridUsageLeftoverValues selfCoverageValues  \\\n",
       "0           0.000            None                    None               None   \n",
       "1           0.000            None                    None               None   \n",
       "2           0.388            None                    None               None   \n",
       "3           0.000            None                    None               None   \n",
       "4           0.000            None                    None               None   \n",
       "..            ...             ...                     ...                ...   \n",
       "91          0.465            None                    None               None   \n",
       "92          1.125            None                    None               None   \n",
       "93          0.700            None                    None               None   \n",
       "94          0.153            None                    None               None   \n",
       "95          0.451            None                    None               None   \n",
       "\n",
       "   jointTenancyProportionValues  meteredPeakDemands estimatedPeakDemands  \\\n",
       "0                          None               0.000                 None   \n",
       "1                          None               0.000                 None   \n",
       "2                          None               1.552                 None   \n",
       "3                          None               0.000                 None   \n",
       "4                          None               0.000                 None   \n",
       "..                          ...                 ...                  ...   \n",
       "91                         None               1.860                 None   \n",
       "92                         None               4.500                 None   \n",
       "93                         None               2.800                 None   \n",
       "94                         None               0.612                 None   \n",
       "95                         None               1.804                 None   \n",
       "\n",
       "        peakDemandTimes selfCoverageRenewableEnergyValue  \n",
       "0   2023-08-19T00:15:00                             None  \n",
       "1   2023-08-19T00:30:00                             None  \n",
       "2   2023-08-19T00:45:00                             None  \n",
       "3   2023-08-19T01:00:00                             None  \n",
       "4   2023-08-19T01:15:00                             None  \n",
       "..                  ...                              ...  \n",
       "91  2023-08-19T23:00:00                             None  \n",
       "92  2023-08-19T23:15:00                             None  \n",
       "93  2023-08-19T23:30:00                             None  \n",
       "94  2023-08-19T23:45:00                             None  \n",
       "95  2023-08-20T00:00:00                             None  \n",
       "\n",
       "[96 rows x 9 columns]"
      ]
     },
     "execution_count": 3,
     "metadata": {},
     "output_type": "execute_result"
    }
   ],
   "source": [
    "data = pd.DataFrame(data_response)\n",
    "data"
   ]
  },
  {
   "cell_type": "code",
   "execution_count": 4,
   "metadata": {},
   "outputs": [
    {
     "data": {
      "text/plain": [
       "10.817"
      ]
     },
     "execution_count": 4,
     "metadata": {},
     "output_type": "execute_result"
    }
   ],
   "source": [
    "data['meteredValues'].sum()"
   ]
  },
  {
   "cell_type": "code",
   "execution_count": null,
   "metadata": {},
   "outputs": [],
   "source": []
  }
 ],
 "metadata": {
  "kernelspec": {
   "display_name": "yolo",
   "language": "python",
   "name": "python3"
  },
  "language_info": {
   "codemirror_mode": {
    "name": "ipython",
    "version": 3
   },
   "file_extension": ".py",
   "mimetype": "text/x-python",
   "name": "python",
   "nbconvert_exporter": "python",
   "pygments_lexer": "ipython3",
   "version": "3.8.17"
  },
  "orig_nbformat": 4
 },
 "nbformat": 4,
 "nbformat_minor": 2
}
