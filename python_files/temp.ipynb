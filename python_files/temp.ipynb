{
 "cells": [
  {
   "cell_type": "code",
   "execution_count": 8,
   "metadata": {},
   "outputs": [
    {
     "name": "stdout",
     "output_type": "stream",
     "text": [
      "Current working directory: /home/pi/smart_plug/python_files\n",
      "        start_timestamp        end_timestamp marketprice unit  relaynumber\n",
      "0   2023-12-04T01:00:00  2023-12-04T02:00:00       88.02  kWh            1\n",
      "1   2023-12-04T02:00:00  2023-12-04T03:00:00       85.38  kWh            1\n",
      "2   2023-12-04T03:00:00  2023-12-04T04:00:00       85.83  kWh            1\n",
      "3   2023-12-04T04:00:00  2023-12-04T05:00:00       93.59  kWh            1\n",
      "4   2023-12-04T21:00:00  2023-12-04T22:00:00       100.0  kWh            1\n",
      "5   2023-12-04T22:00:00  2023-12-04T23:00:00       91.76  kWh            1\n",
      "6   2023-12-04T01:00:00  2023-12-04T02:00:00       88.02  kWh            2\n",
      "7   2023-12-04T02:00:00  2023-12-04T03:00:00       85.38  kWh            2\n",
      "8   2023-12-04T03:00:00  2023-12-04T04:00:00       85.83  kWh            2\n",
      "9   2023-12-04T04:00:00  2023-12-04T05:00:00       93.59  kWh            2\n",
      "10  2023-12-04T22:00:00  2023-12-04T23:00:00       91.76  kWh            2\n"
     ]
    },
    {
     "data": {
      "text/plain": [
       "'[{\"start_timestamp\":\"2023-12-04T01:00:00\",\"end_timestamp\":\"2023-12-04T02:00:00\",\"marketprice\":\"88.02\",\"unit\":\"kWh\",\"relaynumber\":1},{\"start_timestamp\":\"2023-12-04T02:00:00\",\"end_timestamp\":\"2023-12-04T03:00:00\",\"marketprice\":\"85.38\",\"unit\":\"kWh\",\"relaynumber\":1},{\"start_timestamp\":\"2023-12-04T03:00:00\",\"end_timestamp\":\"2023-12-04T04:00:00\",\"marketprice\":\"85.83\",\"unit\":\"kWh\",\"relaynumber\":1},{\"start_timestamp\":\"2023-12-04T04:00:00\",\"end_timestamp\":\"2023-12-04T05:00:00\",\"marketprice\":\"93.59\",\"unit\":\"kWh\",\"relaynumber\":1},{\"start_timestamp\":\"2023-12-04T21:00:00\",\"end_timestamp\":\"2023-12-04T22:00:00\",\"marketprice\":\"100.0\",\"unit\":\"kWh\",\"relaynumber\":1},{\"start_timestamp\":\"2023-12-04T22:00:00\",\"end_timestamp\":\"2023-12-04T23:00:00\",\"marketprice\":\"91.76\",\"unit\":\"kWh\",\"relaynumber\":1},{\"start_timestamp\":\"2023-12-04T01:00:00\",\"end_timestamp\":\"2023-12-04T02:00:00\",\"marketprice\":\"88.02\",\"unit\":\"kWh\",\"relaynumber\":2},{\"start_timestamp\":\"2023-12-04T02:00:00\",\"end_timestamp\":\"2023-12-04T03:00:00\",\"marketprice\":\"85.38\",\"unit\":\"kWh\",\"relaynumber\":2},{\"start_timestamp\":\"2023-12-04T03:00:00\",\"end_timestamp\":\"2023-12-04T04:00:00\",\"marketprice\":\"85.83\",\"unit\":\"kWh\",\"relaynumber\":2},{\"start_timestamp\":\"2023-12-04T04:00:00\",\"end_timestamp\":\"2023-12-04T05:00:00\",\"marketprice\":\"93.59\",\"unit\":\"kWh\",\"relaynumber\":2},{\"start_timestamp\":\"2023-12-04T22:00:00\",\"end_timestamp\":\"2023-12-04T23:00:00\",\"marketprice\":\"91.76\",\"unit\":\"kWh\",\"relaynumber\":2}]'"
      ]
     },
     "execution_count": 8,
     "metadata": {},
     "output_type": "execute_result"
    }
   ],
   "source": [
    "import sys\n",
    "\n",
    "sys.path.append('/home/pi/smart_plug/')\n",
    "import os\n",
    "import schedule\n",
    "import time \n",
    "import subprocess\n",
    "\n",
    "import sqlite3\n",
    "from sqlite3 import Error\n",
    "\n",
    "from datetime import datetime\n",
    "import json\n",
    "\n",
    "from flask import Flask, jsonify, request, send_file, render_template\n",
    "\n",
    "import requests\n",
    "\n",
    "from PIL import Image\n",
    "import io\n",
    "import pandas as pd\n",
    "import matplotlib.pyplot as plt\n",
    "\n",
    "from external_services.awattar_services import AwattarServices\n",
    "from pi_controller.relay_controller import RelayControl\n",
    "from external_services.smartmeter_services import SmartMeterServices\n",
    "from database.db_manager import DatabaseManager\n",
    "from main_services.common_utils import common_utils \n",
    "from main_services.auto_mode import Auto_Mode\n",
    "\n",
    "from flask_paginate import Pagination, get_page_args\n",
    "\n",
    "current_dir = os.getcwd()\n",
    "print(\"Current working directory:\", current_dir)\n",
    "\n",
    "app = Flask(__name__)\n",
    "\n",
    "\n",
    "def getAutoModeStatus():\n",
    "    try:\n",
    "        current_datetime = datetime.now()\n",
    "        start_of_day = current_datetime.replace(hour=0, minute=0, second=0, microsecond=0)\n",
    "        end_of_day = current_datetime.replace(hour=23, minute=59, second=59, microsecond=99)\n",
    "        # Format datetime with 'T'\n",
    "        start_of_day_str = start_of_day.strftime('%Y-%m-%dT%H:%M:%S.%f')[:-3]\n",
    "        end_of_day_str = end_of_day.strftime('%Y-%m-%dT%H:%M:%S.%f')[:-3]\n",
    "\n",
    "        # Connect to the SQLite database\n",
    "        conn = sqlite3.connect(\"/home/pi/smart_plug/database/pythonsqlite.db\")\n",
    "\n",
    "        df = pd.read_sql_query(f\"SELECT start_timestamp, end_timestamp, marketprice, unit, relaynumber FROM automaterelay WHERE start_timestamp BETWEEN '{start_of_day_str}' AND '{end_of_day_str}'\", conn)\n",
    "\n",
    "        # Convert DataFrame to JSON\n",
    "        json_data = df.to_json(orient='records')\n",
    "\n",
    "        print(df)\n",
    "\n",
    "        # Return JSON response\n",
    "        return json_data\n",
    "\n",
    "    except Exception as e:\n",
    "        print(f\"An error occurred: {e}\")\n",
    "        return jsonify({\"status\": \"Error\"}), 500\n",
    "\n",
    "    finally:\n",
    "          if 'conn' in locals() and conn:\n",
    "            conn.close()\n",
    "\n",
    "getAutoModeStatus()\n"
   ]
  }
 ],
 "metadata": {
  "kernelspec": {
   "display_name": "Python 3",
   "language": "python",
   "name": "python3"
  },
  "language_info": {
   "codemirror_mode": {
    "name": "ipython",
    "version": 3
   },
   "file_extension": ".py",
   "mimetype": "text/x-python",
   "name": "python",
   "nbconvert_exporter": "python",
   "pygments_lexer": "ipython3",
   "version": "3.9.2"
  },
  "orig_nbformat": 4
 },
 "nbformat": 4,
 "nbformat_minor": 2
}
