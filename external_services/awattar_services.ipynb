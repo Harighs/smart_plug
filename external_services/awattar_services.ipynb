{
 "cells": [
  {
   "cell_type": "code",
   "execution_count": 1,
   "metadata": {},
   "outputs": [],
   "source": [
    "from awattar_services import AwattarServices\n",
    "\n",
    "# Create an instance of the class\n",
    "awattar_services = AwattarServices()"
   ]
  },
  {
   "cell_type": "code",
   "execution_count": 11,
   "metadata": {},
   "outputs": [
    {
     "ename": "TypeError",
     "evalue": "'module' object is not callable",
     "output_type": "error",
     "traceback": [
      "\u001b[0;31m---------------------------------------------------------------------------\u001b[0m",
      "\u001b[0;31mTypeError\u001b[0m                                 Traceback (most recent call last)",
      "Cell \u001b[0;32mIn[11], line 4\u001b[0m\n\u001b[1;32m      1\u001b[0m \u001b[39mimport\u001b[39;00m \u001b[39mdatetime\u001b[39;00m\n\u001b[1;32m      2\u001b[0m \u001b[39mimport\u001b[39;00m \u001b[39mtimedelta\u001b[39;00m\n\u001b[0;32m----> 4\u001b[0m current_datetime \u001b[39m=\u001b[39m datetime\u001b[39m.\u001b[39mdatetime\u001b[39m.\u001b[39mnow() \u001b[39m-\u001b[39m timedelta(hours\u001b[39m=\u001b[39;49m\u001b[39m24\u001b[39;49m)\n\u001b[1;32m      5\u001b[0m unix_timestamp \u001b[39m=\u001b[39m current_datetime\u001b[39m.\u001b[39mtimestamp()\n\u001b[1;32m      6\u001b[0m start_of_day, end_of_day \u001b[39m=\u001b[39m AwattarServices\u001b[39m.\u001b[39mget_start_and_end_of_day(unix_timestamp)\n",
      "\u001b[0;31mTypeError\u001b[0m: 'module' object is not callable"
     ]
    }
   ],
   "source": [
    "import datetime\n",
    "import timedelta\n",
    "\n",
    "current_datetime = datetime.datetime.now() - timedelta(hours=24)\n",
    "unix_timestamp = current_datetime.timestamp()\n",
    "start_of_day, end_of_day = AwattarServices.get_start_and_end_of_day(unix_timestamp)\n",
    "int(start_of_day.timestamp()*1000)\n",
    "int(end_of_day.timestamp()*1000)"
   ]
  },
  {
   "cell_type": "code",
   "execution_count": 9,
   "metadata": {},
   "outputs": [
    {
     "data": {
      "text/plain": [
       "datetime.datetime(2023, 10, 1, 11, 43, 43, 329376)"
      ]
     },
     "execution_count": 9,
     "metadata": {},
     "output_type": "execute_result"
    }
   ],
   "source": [
    "datetime.datetime.now()"
   ]
  },
  {
   "cell_type": "code",
   "execution_count": 1,
   "metadata": {},
   "outputs": [
    {
     "ename": "TypeError",
     "evalue": "'module' object is not callable",
     "output_type": "error",
     "traceback": [
      "\u001b[0;31m---------------------------------------------------------------------------\u001b[0m",
      "\u001b[0;31mTypeError\u001b[0m                                 Traceback (most recent call last)",
      "Cell \u001b[0;32mIn[1], line 4\u001b[0m\n\u001b[1;32m      1\u001b[0m \u001b[39mimport\u001b[39;00m \u001b[39mdatetime\u001b[39;00m\n\u001b[1;32m      2\u001b[0m \u001b[39mimport\u001b[39;00m \u001b[39mtimedelta\u001b[39;00m\n\u001b[0;32m----> 4\u001b[0m current_datetime \u001b[39m=\u001b[39m datetime\u001b[39m.\u001b[39mdatetime\u001b[39m.\u001b[39mnow() \u001b[39m-\u001b[39m timedelta(hours\u001b[39m=\u001b[39;49m\u001b[39m24\u001b[39;49m)\n\u001b[1;32m      5\u001b[0m unix_timestamp \u001b[39m=\u001b[39m current_datetime\u001b[39m.\u001b[39mtimestamp()\n\u001b[1;32m      6\u001b[0m start_of_day, end_of_day \u001b[39m=\u001b[39m AwattarServices\u001b[39m.\u001b[39mget_start_and_end_of_day(unix_timestamp)\n",
      "\u001b[0;31mTypeError\u001b[0m: 'module' object is not callable"
     ]
    }
   ],
   "source": [
    "import datetime\n",
    "import timedelta\n",
    "\n",
    "current_datetime = datetime.datetime.now() - timedelta(hours=24)\n",
    "unix_timestamp = current_datetime.timestamp()\n",
    "start_of_day, end_of_day = AwattarServices.get_start_and_end_of_day(unix_timestamp)\n",
    "int(start_of_day.timestamp()*1000)\n",
    "int(end_of_day.timestamp()*1000)"
   ]
  },
  {
   "cell_type": "code",
   "execution_count": 2,
   "metadata": {},
   "outputs": [
    {
     "data": {
      "text/html": [
       "<div>\n",
       "<style scoped>\n",
       "    .dataframe tbody tr th:only-of-type {\n",
       "        vertical-align: middle;\n",
       "    }\n",
       "\n",
       "    .dataframe tbody tr th {\n",
       "        vertical-align: top;\n",
       "    }\n",
       "\n",
       "    .dataframe thead th {\n",
       "        text-align: right;\n",
       "    }\n",
       "</style>\n",
       "<table border=\"1\" class=\"dataframe\">\n",
       "  <thead>\n",
       "    <tr style=\"text-align: right;\">\n",
       "      <th></th>\n",
       "      <th>start_timestamp</th>\n",
       "      <th>end_timestamp</th>\n",
       "      <th>marketprice</th>\n",
       "      <th>unit</th>\n",
       "    </tr>\n",
       "  </thead>\n",
       "  <tbody>\n",
       "    <tr>\n",
       "      <th>0</th>\n",
       "      <td>2023-09-01 00:00:00</td>\n",
       "      <td>2023-09-01 01:00:00</td>\n",
       "      <td>93.29</td>\n",
       "      <td>Eur/MWh</td>\n",
       "    </tr>\n",
       "    <tr>\n",
       "      <th>1</th>\n",
       "      <td>2023-09-01 01:00:00</td>\n",
       "      <td>2023-09-01 02:00:00</td>\n",
       "      <td>92.09</td>\n",
       "      <td>Eur/MWh</td>\n",
       "    </tr>\n",
       "    <tr>\n",
       "      <th>2</th>\n",
       "      <td>2023-09-01 02:00:00</td>\n",
       "      <td>2023-09-01 03:00:00</td>\n",
       "      <td>91.80</td>\n",
       "      <td>Eur/MWh</td>\n",
       "    </tr>\n",
       "    <tr>\n",
       "      <th>3</th>\n",
       "      <td>2023-09-01 03:00:00</td>\n",
       "      <td>2023-09-01 04:00:00</td>\n",
       "      <td>95.98</td>\n",
       "      <td>Eur/MWh</td>\n",
       "    </tr>\n",
       "    <tr>\n",
       "      <th>4</th>\n",
       "      <td>2023-09-01 04:00:00</td>\n",
       "      <td>2023-09-01 05:00:00</td>\n",
       "      <td>111.93</td>\n",
       "      <td>Eur/MWh</td>\n",
       "    </tr>\n",
       "    <tr>\n",
       "      <th>...</th>\n",
       "      <td>...</td>\n",
       "      <td>...</td>\n",
       "      <td>...</td>\n",
       "      <td>...</td>\n",
       "    </tr>\n",
       "    <tr>\n",
       "      <th>714</th>\n",
       "      <td>2023-09-30 18:00:00</td>\n",
       "      <td>2023-09-30 19:00:00</td>\n",
       "      <td>133.18</td>\n",
       "      <td>Eur/MWh</td>\n",
       "    </tr>\n",
       "    <tr>\n",
       "      <th>715</th>\n",
       "      <td>2023-09-30 19:00:00</td>\n",
       "      <td>2023-09-30 20:00:00</td>\n",
       "      <td>111.90</td>\n",
       "      <td>Eur/MWh</td>\n",
       "    </tr>\n",
       "    <tr>\n",
       "      <th>716</th>\n",
       "      <td>2023-09-30 20:00:00</td>\n",
       "      <td>2023-09-30 21:00:00</td>\n",
       "      <td>107.40</td>\n",
       "      <td>Eur/MWh</td>\n",
       "    </tr>\n",
       "    <tr>\n",
       "      <th>717</th>\n",
       "      <td>2023-09-30 21:00:00</td>\n",
       "      <td>2023-09-30 22:00:00</td>\n",
       "      <td>101.04</td>\n",
       "      <td>Eur/MWh</td>\n",
       "    </tr>\n",
       "    <tr>\n",
       "      <th>718</th>\n",
       "      <td>2023-09-30 22:00:00</td>\n",
       "      <td>2023-09-30 23:00:00</td>\n",
       "      <td>102.73</td>\n",
       "      <td>Eur/MWh</td>\n",
       "    </tr>\n",
       "  </tbody>\n",
       "</table>\n",
       "<p>719 rows × 4 columns</p>\n",
       "</div>"
      ],
      "text/plain": [
       "        start_timestamp       end_timestamp  marketprice     unit\n",
       "0   2023-09-01 00:00:00 2023-09-01 01:00:00        93.29  Eur/MWh\n",
       "1   2023-09-01 01:00:00 2023-09-01 02:00:00        92.09  Eur/MWh\n",
       "2   2023-09-01 02:00:00 2023-09-01 03:00:00        91.80  Eur/MWh\n",
       "3   2023-09-01 03:00:00 2023-09-01 04:00:00        95.98  Eur/MWh\n",
       "4   2023-09-01 04:00:00 2023-09-01 05:00:00       111.93  Eur/MWh\n",
       "..                  ...                 ...          ...      ...\n",
       "714 2023-09-30 18:00:00 2023-09-30 19:00:00       133.18  Eur/MWh\n",
       "715 2023-09-30 19:00:00 2023-09-30 20:00:00       111.90  Eur/MWh\n",
       "716 2023-09-30 20:00:00 2023-09-30 21:00:00       107.40  Eur/MWh\n",
       "717 2023-09-30 21:00:00 2023-09-30 22:00:00       101.04  Eur/MWh\n",
       "718 2023-09-30 22:00:00 2023-09-30 23:00:00       102.73  Eur/MWh\n",
       "\n",
       "[719 rows x 4 columns]"
      ]
     },
     "execution_count": 2,
     "metadata": {},
     "output_type": "execute_result"
    }
   ],
   "source": [
    "awattar_services.AWATTAR_ONE_DAY_PERIOD('1693526400000', '1696118399000')"
   ]
  },
  {
   "cell_type": "code",
   "execution_count": 6,
   "metadata": {},
   "outputs": [
    {
     "ename": "TypeError",
     "evalue": "'module' object is not callable",
     "output_type": "error",
     "traceback": [
      "\u001b[0;31m---------------------------------------------------------------------------\u001b[0m",
      "\u001b[0;31mTypeError\u001b[0m                                 Traceback (most recent call last)",
      "Cell \u001b[0;32mIn[6], line 6\u001b[0m\n\u001b[1;32m      4\u001b[0m \u001b[39m# Get today and yesterday's date\u001b[39;00m\n\u001b[1;32m      5\u001b[0m today \u001b[39m=\u001b[39m datetime\u001b[39m.\u001b[39mdatetime\u001b[39m.\u001b[39mnow()\u001b[39m.\u001b[39mreplace(hour\u001b[39m=\u001b[39m\u001b[39m0\u001b[39m, minute\u001b[39m=\u001b[39m\u001b[39m0\u001b[39m, second\u001b[39m=\u001b[39m\u001b[39m0\u001b[39m, microsecond\u001b[39m=\u001b[39m\u001b[39m0\u001b[39m)\n\u001b[0;32m----> 6\u001b[0m yesterday \u001b[39m=\u001b[39m today \u001b[39m-\u001b[39m timedelta(days\u001b[39m=\u001b[39;49m\u001b[39m1\u001b[39;49m)\n\u001b[1;32m      8\u001b[0m \u001b[39m# Convert to a UNIX timestamp (in seconds)\u001b[39;00m\n\u001b[1;32m      9\u001b[0m timestamp_start_yesterday \u001b[39m=\u001b[39m \u001b[39mint\u001b[39m(yesterday\u001b[39m.\u001b[39mtimestamp())\n",
      "\u001b[0;31mTypeError\u001b[0m: 'module' object is not callable"
     ]
    }
   ],
   "source": [
    "import json\n",
    "import datetime\n",
    "import timedelta\n",
    "# Get today and yesterday's date\n",
    "today = datetime.datetime.now().replace(hour=0, minute=0, second=0, microsecond=0)\n",
    "yesterday = today - timedelta(days=1)\n",
    "\n",
    "# Convert to a UNIX timestamp (in seconds)\n",
    "timestamp_start_yesterday = int(yesterday.timestamp())\n",
    "timestamp_start_today = int(today.timestamp())\n",
    "\n",
    "# If you need the timestamps in milliseconds, multiply by 1000\n",
    "timestamp_start_yesterday_ms = timestamp_start_yesterday * 1000\n",
    "timestamp_start_today_ms = timestamp_start_today * 1000\n",
    "\n",
    "print(f\"Timestamp for 00:00:00 yesterday: {timestamp_start_yesterday} seconds / {timestamp_start_yesterday_ms} milliseconds\")\n",
    "print(f\"Timestamp for 24:00:00 yesterday (00:00:00 today): {timestamp_start_today} seconds / {timestamp_start_today_ms} milliseconds\")\n"
   ]
  },
  {
   "cell_type": "code",
   "execution_count": 15,
   "metadata": {},
   "outputs": [
    {
     "ename": "TypeError",
     "evalue": "AWATTAR_ONE_DAY_PERIOD() missing 1 required positional argument: 'file_path'",
     "output_type": "error",
     "traceback": [
      "\u001b[0;31m---------------------------------------------------------------------------\u001b[0m",
      "\u001b[0;31mTypeError\u001b[0m                                 Traceback (most recent call last)",
      "\u001b[1;32m/home/pi/smart_plug/python_files/awattar_services.ipynb Cell 3\u001b[0m line \u001b[0;36m1\n\u001b[0;32m----> <a href='vscode-notebook-cell://ssh-remote%2B192.168.1.238/home/pi/smart_plug/python_files/awattar_services.ipynb#W1sdnNjb2RlLXJlbW90ZQ%3D%3D?line=0'>1</a>\u001b[0m awattar_services\u001b[39m.\u001b[39;49mAWATTAR_ONE_DAY_PERIOD(timestamp_start_yesterday_ms, timestamp_start_today_ms)\n",
      "\u001b[0;31mTypeError\u001b[0m: AWATTAR_ONE_DAY_PERIOD() missing 1 required positional argument: 'file_path'"
     ]
    }
   ],
   "source": [
    "awattar_services.AWATTAR_ONE_DAY_PERIOD(timestamp_start_yesterday_ms, timestamp_start_today_ms)"
   ]
  },
  {
   "cell_type": "code",
   "execution_count": 7,
   "metadata": {},
   "outputs": [
    {
     "data": {
      "text/plain": [
       "1695942000000"
      ]
     },
     "execution_count": 7,
     "metadata": {},
     "output_type": "execute_result"
    }
   ],
   "source": [
    "timestamp_start_yesterday_ms"
   ]
  },
  {
   "cell_type": "code",
   "execution_count": null,
   "metadata": {},
   "outputs": [],
   "source": []
  }
 ],
 "metadata": {
  "kernelspec": {
   "display_name": "Python 3",
   "language": "python",
   "name": "python3"
  },
  "language_info": {
   "codemirror_mode": {
    "name": "ipython",
    "version": 3
   },
   "file_extension": ".py",
   "mimetype": "text/x-python",
   "name": "python",
   "nbconvert_exporter": "python",
   "pygments_lexer": "ipython3",
   "version": "3.9.2"
  },
  "orig_nbformat": 4
 },
 "nbformat": 4,
 "nbformat_minor": 2
}
