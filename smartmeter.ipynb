{
 "cells": [
  {
   "cell_type": "code",
   "execution_count": 13,
   "metadata": {},
   "outputs": [],
   "source": [
    "\n",
    "import requests\n",
    "import json\n",
    "import pandas as pd\n",
    "from urllib.parse import quote\n",
    "import datetime\n",
    "\n",
    "\n",
    "auth_url = 'https://smartmeter.netz-noe.at/orchestration/Authentication/Login'\n",
    "auth_payload = {\"user\": \"SommererPrivatstiftung\", \"pwd\": \"SpS*1996\"}\n",
    "\n",
    "auth_response = requests.post(auth_url, json=auth_payload)\n",
    "auth_cookie = auth_response.cookies['__Host-go4DavidSecurityToken']\n",
    "auth_xsrf_token = auth_response.cookies['XSRF-Token']\n",
    "### TODO: update date from mobile \n",
    "\n",
    "# data_url = f\"https://smartmeter.netz-noe.at/orchestration/ConsumptionRecord/Day?meterId=AT0020000000000000000000020826368&day=2023-8-24&__Host-go4DavidSecurityToken={auth_cookie}\"\n",
    "\n",
    "# data_url = f\"https://smartmeter.netz-noe.at/orchestration/ConsumptionRecord/BalanceWeek?pointOfConsumption=40565578&startDate=2023-8-22&endDate=2023-8-24\"\n",
    "data_url = f\"https://smartmeter.netz-noe.at/orchestration/ConsumptionRecord/Week?meterId=AT0020000000000000000000020826367&startDate=2023-8-21&endDate=2023-8-28\"\n",
    "headers = {\n",
    "    'Cookie': f'__Host-go4DavidSecurityToken={auth_cookie}; XSRF-Token={auth_xsrf_token}',\n",
    "}\n",
    "\n",
    "data_response = requests.get(data_url, headers=headers).json()"
   ]
  },
  {
   "cell_type": "code",
   "execution_count": 16,
   "metadata": {},
   "outputs": [
    {
     "data": {
      "text/html": [
       "<div>\n",
       "<style scoped>\n",
       "    .dataframe tbody tr th:only-of-type {\n",
       "        vertical-align: middle;\n",
       "    }\n",
       "\n",
       "    .dataframe tbody tr th {\n",
       "        vertical-align: top;\n",
       "    }\n",
       "\n",
       "    .dataframe thead th {\n",
       "        text-align: right;\n",
       "    }\n",
       "</style>\n",
       "<table border=\"1\" class=\"dataframe\">\n",
       "  <thead>\n",
       "    <tr style=\"text-align: right;\">\n",
       "      <th></th>\n",
       "      <th>meteredValues</th>\n",
       "      <th>peakDemandTimes</th>\n",
       "    </tr>\n",
       "  </thead>\n",
       "  <tbody>\n",
       "    <tr>\n",
       "      <th>0</th>\n",
       "      <td>5.477</td>\n",
       "      <td>2023-08-21T22:45:00</td>\n",
       "    </tr>\n",
       "    <tr>\n",
       "      <th>1</th>\n",
       "      <td>4.721</td>\n",
       "      <td>2023-08-22T08:00:00</td>\n",
       "    </tr>\n",
       "    <tr>\n",
       "      <th>2</th>\n",
       "      <td>4.209</td>\n",
       "      <td>2023-08-23T23:15:00</td>\n",
       "    </tr>\n",
       "    <tr>\n",
       "      <th>3</th>\n",
       "      <td>4.582</td>\n",
       "      <td>2023-08-24T20:00:00</td>\n",
       "    </tr>\n",
       "    <tr>\n",
       "      <th>4</th>\n",
       "      <td>7.332</td>\n",
       "      <td>2023-08-25T09:15:00</td>\n",
       "    </tr>\n",
       "    <tr>\n",
       "      <th>5</th>\n",
       "      <td>NaN</td>\n",
       "      <td>None</td>\n",
       "    </tr>\n",
       "    <tr>\n",
       "      <th>6</th>\n",
       "      <td>NaN</td>\n",
       "      <td>None</td>\n",
       "    </tr>\n",
       "  </tbody>\n",
       "</table>\n",
       "</div>"
      ],
      "text/plain": [
       "   meteredValues      peakDemandTimes\n",
       "0          5.477  2023-08-21T22:45:00\n",
       "1          4.721  2023-08-22T08:00:00\n",
       "2          4.209  2023-08-23T23:15:00\n",
       "3          4.582  2023-08-24T20:00:00\n",
       "4          7.332  2023-08-25T09:15:00\n",
       "5            NaN                 None\n",
       "6            NaN                 None"
      ]
     },
     "execution_count": 16,
     "metadata": {},
     "output_type": "execute_result"
    }
   ],
   "source": [
    "data_response = pd.DataFrame(data_response)[['meteredValues', 'peakDemandTimes']]\n",
    "data_response['meteredValues'].sum()"
   ]
  },
  {
   "cell_type": "code",
   "execution_count": 17,
   "metadata": {},
   "outputs": [
    {
     "data": {
      "text/plain": [
       "26.321"
      ]
     },
     "execution_count": 17,
     "metadata": {},
     "output_type": "execute_result"
    }
   ],
   "source": []
  },
  {
   "cell_type": "code",
   "execution_count": null,
   "metadata": {},
   "outputs": [],
   "source": []
  }
 ],
 "metadata": {
  "kernelspec": {
   "display_name": "yolo",
   "language": "python",
   "name": "python3"
  },
  "language_info": {
   "codemirror_mode": {
    "name": "ipython",
    "version": 3
   },
   "file_extension": ".py",
   "mimetype": "text/x-python",
   "name": "python",
   "nbconvert_exporter": "python",
   "pygments_lexer": "ipython3",
   "version": "3.8.17"
  },
  "orig_nbformat": 4
 },
 "nbformat": 4,
 "nbformat_minor": 2
}
